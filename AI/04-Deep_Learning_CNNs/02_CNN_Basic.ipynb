{
  "cells": [
    {
      "cell_type": "markdown",
      "metadata": {
        "id": "view-in-github",
        "colab_type": "text"
      },
      "source": [
        "<a href=\"https://colab.research.google.com/github/younghun-cha/Healthcare-Big-Data-Engineer/blob/main/AI/04-Deep_Learning_CNNs/02_CNN_Basic.ipynb\" target=\"_parent\"><img src=\"https://colab.research.google.com/assets/colab-badge.svg\" alt=\"Open In Colab\"/></a>"
      ]
    },
    {
      "cell_type": "markdown",
      "metadata": {
        "id": "aXkszegKMMMn"
      },
      "source": [
        "# Pytorch: CNN Basic"
      ]
    },
    {
      "cell_type": "code",
      "execution_count": 3,
      "metadata": {
        "colab": {
          "base_uri": "https://localhost:8080/"
        },
        "id": "gmdHVgDurviK",
        "outputId": "7ad838fd-cd9b-4cde-cc8a-7d11696a695e"
      },
      "outputs": [
        {
          "output_type": "stream",
          "name": "stdout",
          "text": [
            "2.0.0+cu118\n",
            "0.15.1+cu118\n"
          ]
        }
      ],
      "source": [
        "import torch\n",
        "import torchvision\n",
        "\n",
        "print(torch.__version__)\n",
        "print(torchvision.__version__)"
      ]
    },
    {
      "cell_type": "markdown",
      "metadata": {
        "id": "QbzMwCbOLF4T"
      },
      "source": [
        "## 1. Data Loading\n",
        "- `torchvision`에서 CIFAR10 데이터셋 다운로드"
      ]
    },
    {
      "cell_type": "code",
      "execution_count": 4,
      "metadata": {
        "colab": {
          "base_uri": "https://localhost:8080/"
        },
        "id": "G5sT2wsuq0pL",
        "outputId": "3f11c969-87fd-45aa-8564-e8362af427bd"
      },
      "outputs": [
        {
          "output_type": "stream",
          "name": "stdout",
          "text": [
            "Downloading https://www.cs.toronto.edu/~kriz/cifar-10-python.tar.gz to ../dataset/cifa10/train/cifar-10-python.tar.gz\n"
          ]
        },
        {
          "output_type": "stream",
          "name": "stderr",
          "text": [
            "100%|██████████| 170498071/170498071 [00:13<00:00, 12922136.08it/s]\n"
          ]
        },
        {
          "output_type": "stream",
          "name": "stdout",
          "text": [
            "Extracting ../dataset/cifa10/train/cifar-10-python.tar.gz to ../dataset/cifa10/train/\n"
          ]
        }
      ],
      "source": [
        "from torchvision.datasets import CIFAR10\n",
        "\n",
        "train_data = CIFAR10(root=\"../dataset/cifa10/train/\",\n",
        "                     train=True, \n",
        "                     download=True)"
      ]
    },
    {
      "cell_type": "code",
      "execution_count": 5,
      "metadata": {
        "colab": {
          "base_uri": "https://localhost:8080/"
        },
        "id": "lXOxZR4cq8Gk",
        "outputId": "efd17bde-10d8-4bbe-a492-b415e07cd991"
      },
      "outputs": [
        {
          "output_type": "stream",
          "name": "stdout",
          "text": [
            "(50000, 32, 32, 3)\n",
            "[6, 9, 9, 4, 1, 1, 2, 7, 8, 3]\n",
            "['airplane', 'automobile', 'bird', 'cat', 'deer', 'dog', 'frog', 'horse', 'ship', 'truck']\n",
            "{'airplane': 0, 'automobile': 1, 'bird': 2, 'cat': 3, 'deer': 4, 'dog': 5, 'frog': 6, 'horse': 7, 'ship': 8, 'truck': 9}\n"
          ]
        }
      ],
      "source": [
        "print(train_data.data.shape) \n",
        "print(train_data.targets[:10])\n",
        "print(train_data.classes)\n",
        "print(train_data.class_to_idx)"
      ]
    },
    {
      "cell_type": "code",
      "execution_count": 6,
      "metadata": {
        "colab": {
          "base_uri": "https://localhost:8080/"
        },
        "id": "dhzUTLE-51Jq",
        "outputId": "6cc87afa-8c12-4b59-9165-b745306cc5fc"
      },
      "outputs": [
        {
          "output_type": "stream",
          "name": "stdout",
          "text": [
            "<class 'PIL.Image.Image'>\n",
            "<PIL.Image.Image image mode=RGB size=32x32 at 0x7FD5D790A290>\n"
          ]
        }
      ],
      "source": [
        "data, label = train_data[0]\n",
        "\n",
        "print(type(data))\n",
        "print(data)"
      ]
    },
    {
      "cell_type": "code",
      "execution_count": 7,
      "metadata": {
        "colab": {
          "base_uri": "https://localhost:8080/",
          "height": 448
        },
        "id": "vAhQrllQLA-j",
        "outputId": "006e8fe7-5208-4af9-9c96-4a5964a94de0"
      },
      "outputs": [
        {
          "output_type": "execute_result",
          "data": {
            "text/plain": [
              "<matplotlib.image.AxesImage at 0x7fd5d790b790>"
            ]
          },
          "metadata": {},
          "execution_count": 7
        },
        {
          "output_type": "display_data",
          "data": {
            "text/plain": [
              "<Figure size 640x480 with 1 Axes>"
            ],
            "image/png": "[encoded data removed]"
          },
          "metadata": {}
        }
      ],
      "source": [
        "import matplotlib.pyplot as plt\n",
        "\n",
        "plt.imshow(data)"
      ]
    },
    {
      "cell_type": "code",
      "execution_count": 8,
      "metadata": {
        "colab": {
          "base_uri": "https://localhost:8080/"
        },
        "id": "idrPrE7r51eN",
        "outputId": "6b4cda1a-ec00-472a-ab1d-8409c8975f2b"
      },
      "outputs": [
        {
          "output_type": "stream",
          "name": "stdout",
          "text": [
            "<class 'int'>\n",
            "6\n",
            "frog\n"
          ]
        }
      ],
      "source": [
        "print(type(label))\n",
        "print(label)\n",
        "print(train_data.classes[label])"
      ]
    },
    {
      "cell_type": "code",
      "execution_count": 9,
      "metadata": {
        "colab": {
          "base_uri": "https://localhost:8080/"
        },
        "id": "awDbzyQN81Iv",
        "outputId": "d0c7e45f-a6a8-48aa-85a9-252fb032855e"
      },
      "outputs": [
        {
          "output_type": "stream",
          "name": "stdout",
          "text": [
            "Downloading https://www.cs.toronto.edu/~kriz/cifar-10-python.tar.gz to ../dataset/cifa10/test/cifar-10-python.tar.gz\n"
          ]
        },
        {
          "output_type": "stream",
          "name": "stderr",
          "text": [
            "100%|██████████| 170498071/170498071 [00:17<00:00, 9572989.72it/s] \n"
          ]
        },
        {
          "output_type": "stream",
          "name": "stdout",
          "text": [
            "Extracting ../dataset/cifa10/test/cifar-10-python.tar.gz to ../dataset/cifa10/test/\n",
            "Dataset CIFAR10\n",
            "    Number of datapoints: 10000\n",
            "    Root location: ../dataset/cifa10/test/\n",
            "    Split: Test\n",
            "(10000, 32, 32, 3)\n"
          ]
        }
      ],
      "source": [
        "test_data = CIFAR10(root=\"../dataset/cifa10/test/\", \n",
        "                    train=False, \n",
        "                    download=True)\n",
        "\n",
        "print(test_data)\n",
        "print(test_data.data.shape)"
      ]
    },
    {
      "cell_type": "markdown",
      "metadata": {
        "id": "n-BCIj1oG_sA"
      },
      "source": [
        "## 2. Data Transforms"
      ]
    },
    {
      "cell_type": "markdown",
      "metadata": {
        "id": "qV8eX5Yfjn39"
      },
      "source": [
        "### 2-1. Trainset Transforms\n",
        "- Data Augmentation 포함"
      ]
    },
    {
      "cell_type": "code",
      "execution_count": 10,
      "metadata": {
        "colab": {
          "base_uri": "https://localhost:8080/"
        },
        "id": "rgMYPb-DLP3i",
        "outputId": "95fcc4e5-63e5-4827-d9c9-f401f40398a3"
      },
      "outputs": [
        {
          "output_type": "stream",
          "name": "stdout",
          "text": [
            "Files already downloaded and verified\n"
          ]
        }
      ],
      "source": [
        "from torchvision import transforms\n",
        "\n",
        "train_transforms = transforms.Compose([\n",
        "          transforms.RandomCrop(32, padding=4),\n",
        "          transforms.RandomHorizontalFlip(),\n",
        "          transforms.ToTensor(),\n",
        "          transforms.Normalize(\n",
        "              (0.4914, 0.4822, 0.4465),\n",
        "              (0.2023, 0.1994, 0.2010))])\n",
        "\n",
        "train_data = CIFAR10(root=\"../dataset/cifa10/train/\",\n",
        "                    train=True, \n",
        "                    download=True,\n",
        "                    transform=train_transforms)"
      ]
    },
    {
      "cell_type": "code",
      "execution_count": 11,
      "metadata": {
        "colab": {
          "base_uri": "https://localhost:8080/"
        },
        "id": "QhcgHjQlv5Pr",
        "outputId": "b5453f61-c218-48a4-eb0e-26edaecf9dbb"
      },
      "outputs": [
        {
          "output_type": "stream",
          "name": "stdout",
          "text": [
            "Dataset CIFAR10\n",
            "    Number of datapoints: 50000\n",
            "    Root location: ../dataset/cifa10/train/\n",
            "    Split: Train\n",
            "    StandardTransform\n",
            "Transform: Compose(\n",
            "               RandomCrop(size=(32, 32), padding=4)\n",
            "               RandomHorizontalFlip(p=0.5)\n",
            "               ToTensor()\n",
            "               Normalize(mean=(0.4914, 0.4822, 0.4465), std=(0.2023, 0.1994, 0.201))\n",
            "           )\n",
            "StandardTransform\n",
            "Transform: Compose(\n",
            "               RandomCrop(size=(32, 32), padding=4)\n",
            "               RandomHorizontalFlip(p=0.5)\n",
            "               ToTensor()\n",
            "               Normalize(mean=(0.4914, 0.4822, 0.4465), std=(0.2023, 0.1994, 0.201))\n",
            "           )\n"
          ]
        }
      ],
      "source": [
        "print(train_data)\n",
        "print(train_data.transforms)"
      ]
    },
    {
      "cell_type": "code",
      "execution_count": 12,
      "metadata": {
        "colab": {
          "base_uri": "https://localhost:8080/"
        },
        "id": "XAAlSyQok5Im",
        "outputId": "fd36a94b-9f67-4505-cb61-88a6f8280916"
      },
      "outputs": [
        {
          "output_type": "stream",
          "name": "stdout",
          "text": [
            "<class 'torch.Tensor'>\n",
            "torch.Size([3, 32, 32])\n",
            "tensor([[[-2.4291, -2.4291, -2.4291,  ..., -2.4291, -2.4291, -2.4291],\n",
            "         [-2.4291, -2.4291, -2.4291,  ..., -2.4291, -2.4291, -2.4291],\n",
            "         [-2.4291, -2.4291,  0.4399,  ..., -0.5293, -1.1109, -1.4598],\n",
            "         ...,\n",
            "         [-2.4291, -2.4291, -1.0527,  ...,  0.1104,  0.4981,  0.8276],\n",
            "         [-2.4291, -2.4291, -1.7894,  ...,  0.5950,  0.9051,  1.1765],\n",
            "         [-2.4291, -2.4291, -1.4017,  ...,  1.1184,  1.2735,  1.4091]],\n",
            "\n",
            "        [[-2.4183, -2.4183, -2.4183,  ..., -2.4183, -2.4183, -2.4183],\n",
            "         [-2.4183, -2.4183, -2.4183,  ..., -2.4183, -2.4183, -2.4183],\n",
            "         [-2.4183, -2.4183,  0.0204,  ..., -0.9826, -1.3562, -1.4742],\n",
            "         ...,\n",
            "         [-2.4183, -2.4183, -1.4742,  ..., -0.6876, -0.2352, -0.0189],\n",
            "         [-2.4183, -2.4183, -2.0446,  ..., -0.0582,  0.3154,  0.4924],\n",
            "         [-2.4183, -2.4183, -1.7496,  ...,  0.4531,  0.6694,  0.7481]],\n",
            "\n",
            "        [[-2.2214, -2.2214, -2.2214,  ..., -2.2214, -2.2214, -2.2214],\n",
            "         [-2.2214, -2.2214, -2.2214,  ..., -2.2214, -2.2214, -2.2214],\n",
            "         [-2.2214, -2.2214, -0.2118,  ..., -1.2069, -1.4020, -1.3825],\n",
            "         ...,\n",
            "         [-2.2214, -2.2214, -1.7141,  ..., -1.5580, -1.5385, -1.8507],\n",
            "         [-2.2214, -2.2214, -2.0458,  ..., -1.7141, -1.6751, -1.7531],\n",
            "         [-2.2214, -2.2214, -1.8312,  ..., -1.5580, -1.6946, -1.7141]]])\n"
          ]
        }
      ],
      "source": [
        "data, label = train_data[0]\n",
        "\n",
        "print(type(data))\n",
        "print(data.size())\n",
        "print(data)"
      ]
    },
    {
      "cell_type": "code",
      "execution_count": 13,
      "metadata": {
        "colab": {
          "base_uri": "https://localhost:8080/",
          "height": 466
        },
        "id": "MiJ_cguSHnsF",
        "outputId": "20bededb-d409-4b7a-997c-1bcfd5522329"
      },
      "outputs": [
        {
          "output_type": "stream",
          "name": "stderr",
          "text": [
            "WARNING:matplotlib.image:Clipping input data to the valid range for imshow with RGB data ([0..1] for floats or [0..255] for integers).\n"
          ]
        },
        {
          "output_type": "execute_result",
          "data": {
            "text/plain": [
              "<matplotlib.image.AxesImage at 0x7fd5d78841c0>"
            ]
          },
          "metadata": {},
          "execution_count": 13
        },
        {
          "output_type": "display_data",
          "data": {
            "text/plain": [
              "<Figure size 640x480 with 1 Axes>"
            ],
            "image/png": "[encoded data removed]"
          },
          "metadata": {}
        }
      ],
      "source": [
        "plt.imshow(data.permute(1, 2, 0))"
      ]
    },
    {
      "cell_type": "markdown",
      "metadata": {
        "id": "mPG96SGGjn4E"
      },
      "source": [
        "### 2-2. Testset Transforms"
      ]
    },
    {
      "cell_type": "code",
      "execution_count": 14,
      "metadata": {
        "colab": {
          "base_uri": "https://localhost:8080/"
        },
        "id": "eIMW68MlET2J",
        "outputId": "8f2acf04-b52d-49c7-ba81-7dce63c7b806"
      },
      "outputs": [
        {
          "output_type": "stream",
          "name": "stdout",
          "text": [
            "Dataset CIFAR10\n",
            "    Number of datapoints: 10000\n",
            "    Root location: ../dataset/cifa10/test/\n",
            "    Split: Test\n",
            "    StandardTransform\n",
            "Transform: Compose(\n",
            "               ToTensor()\n",
            "               Normalize(mean=(0.4914, 0.4822, 0.4465), std=(0.2023, 0.1994, 0.201))\n",
            "           )\n"
          ]
        }
      ],
      "source": [
        "test_transforms = transforms.Compose([\n",
        "          transforms.ToTensor(),\n",
        "          transforms.Normalize(\n",
        "              (0.4914, 0.4822, 0.4465),\n",
        "              (0.2023, 0.1994, 0.2010))])\n",
        "\n",
        "test_data = torchvision.datasets.CIFAR10(\n",
        "      root=\"../dataset/cifa10/test/\", \n",
        "      train=False, \n",
        "      transform=test_transforms)\n",
        "\n",
        "print(test_data)"
      ]
    },
    {
      "cell_type": "markdown",
      "metadata": {
        "id": "6W21V3InIG50"
      },
      "source": [
        "## 3. Data Batching with `DataLoader`"
      ]
    },
    {
      "cell_type": "code",
      "execution_count": 15,
      "metadata": {
        "id": "FXYBiTpjHr0N"
      },
      "outputs": [],
      "source": [
        "trainloader = torch.utils.data.DataLoader(\n",
        "                    train_data, \n",
        "                    batch_size=64, \n",
        "                    shuffle=True)"
      ]
    },
    {
      "cell_type": "code",
      "execution_count": 16,
      "metadata": {
        "colab": {
          "base_uri": "https://localhost:8080/"
        },
        "id": "-PZ-qrHmg4xG",
        "outputId": "f000e80d-d8a6-4f9f-a7ce-172691344858"
      },
      "outputs": [
        {
          "output_type": "stream",
          "name": "stdout",
          "text": [
            "torch.Size([64, 3, 32, 32])\n",
            "torch.Size([64])\n"
          ]
        }
      ],
      "source": [
        "data_batch, labels_batch = next(iter(trainloader))\n",
        "print(data_batch.size())\n",
        "\n",
        "print(labels_batch.size())"
      ]
    },
    {
      "cell_type": "code",
      "execution_count": 17,
      "metadata": {
        "id": "BwY6m10IThoG"
      },
      "outputs": [],
      "source": [
        "testloader = torch.utils.data.DataLoader(\n",
        "                    test_data, \n",
        "                    batch_size=64, \n",
        "                    shuffle=False)"
      ]
    },
    {
      "cell_type": "markdown",
      "metadata": {
        "id": "VKrUoF3MIp2i"
      },
      "source": [
        "## 4. Model Design\n",
        "\n"
      ]
    },
    {
      "cell_type": "markdown",
      "metadata": {
        "id": "m_1AMyp5phja"
      },
      "source": [
        "### 4-1. Pre-trained models: VGG16"
      ]
    },
    {
      "cell_type": "code",
      "execution_count": 18,
      "metadata": {
        "colab": {
          "base_uri": "https://localhost:8080/"
        },
        "id": "eLqiKEcf2d7R",
        "outputId": "4ebd4d20-4eb9-43d6-9656-ed4a4449194d"
      },
      "outputs": [
        {
          "output_type": "stream",
          "name": "stderr",
          "text": [
            "/usr/local/lib/python3.10/dist-packages/torchvision/models/_utils.py:208: UserWarning: The parameter 'pretrained' is deprecated since 0.13 and may be removed in the future, please use 'weights' instead.\n",
            "  warnings.warn(\n",
            "/usr/local/lib/python3.10/dist-packages/torchvision/models/_utils.py:223: UserWarning: Arguments other than a weight enum or `None` for 'weights' are deprecated since 0.13 and may be removed in the future. The current behavior is equivalent to passing `weights=VGG16_Weights.IMAGENET1K_V1`. You can also use `weights=VGG16_Weights.DEFAULT` to get the most up-to-date weights.\n",
            "  warnings.warn(msg)\n",
            "Downloading: \"https://download.pytorch.org/models/vgg16-397923af.pth\" to /root/.cache/torch/hub/checkpoints/vgg16-397923af.pth\n",
            "100%|██████████| 528M/528M [00:01<00:00, 299MB/s]\n"
          ]
        }
      ],
      "source": [
        "from torchvision import models\n",
        "\n",
        "vgg16 = models.vgg16(pretrained=True)"
      ]
    },
    {
      "cell_type": "code",
      "execution_count": 19,
      "metadata": {
        "colab": {
          "base_uri": "https://localhost:8080/"
        },
        "id": "0dBa8c5E8bmt",
        "outputId": "e600d9ec-7cbe-4098-dac0-8afba84e8a4e"
      },
      "outputs": [
        {
          "output_type": "stream",
          "name": "stdout",
          "text": [
            "Sequential(\n",
            "  (0): Linear(in_features=25088, out_features=4096, bias=True)\n",
            "  (1): ReLU(inplace=True)\n",
            "  (2): Dropout(p=0.5, inplace=False)\n",
            "  (3): Linear(in_features=4096, out_features=4096, bias=True)\n",
            "  (4): ReLU(inplace=True)\n",
            "  (5): Dropout(p=0.5, inplace=False)\n",
            "  (6): Linear(in_features=4096, out_features=1000, bias=True)\n",
            ")\n"
          ]
        }
      ],
      "source": [
        "print(vgg16.classifier)"
      ]
    },
    {
      "cell_type": "markdown",
      "metadata": {
        "id": "Pl7yIw-uY-RM"
      },
      "source": [
        "### 4-2. PyTorch NN Module (torch.nn)"
      ]
    },
    {
      "cell_type": "code",
      "execution_count": 20,
      "metadata": {
        "id": "hWKdV4PMnL06"
      },
      "outputs": [],
      "source": [
        "import torch.nn as nn\n",
        "import torch.nn.functional as F\n",
        "\n",
        "class SimpleNet(nn.Module):\n",
        "\n",
        "    def __init__(self):\n",
        "        super(SimpleNet, self).__init__()\n",
        "        self.fc1 = nn.Linear(2048, 256)\n",
        "        self.fc2 = nn.Linear(256, 64)\n",
        "        self.fc3 = nn.Linear(64,2)\n",
        "\n",
        "    def forward(self, x):\n",
        "        x = x.view(-1, 2048)\n",
        "        x = F.relu(self.fc1(x))\n",
        "        x = F.relu(self.fc2(x))\n",
        "        x = F.softmax(self.fc3(x),dim=1)\n",
        "        return x"
      ]
    },
    {
      "cell_type": "code",
      "execution_count": 21,
      "metadata": {
        "colab": {
          "base_uri": "https://localhost:8080/"
        },
        "id": "RkAy9PmTpFkj",
        "outputId": "34e581d9-d8e3-4c51-ad2b-3c1eef61412a"
      },
      "outputs": [
        {
          "output_type": "stream",
          "name": "stdout",
          "text": [
            "SimpleNet(\n",
            "  (fc1): Linear(in_features=2048, out_features=256, bias=True)\n",
            "  (fc2): Linear(in_features=256, out_features=64, bias=True)\n",
            "  (fc3): Linear(in_features=64, out_features=2, bias=True)\n",
            ")\n"
          ]
        }
      ],
      "source": [
        "simplenet = SimpleNet()\n",
        "print(simplenet)\n",
        "\n",
        "input = torch.rand(2048)\n",
        "output = simplenet(input)"
      ]
    },
    {
      "cell_type": "markdown",
      "metadata": {
        "id": "LurpNmIpnpLo"
      },
      "source": [
        "### 4-3: `NeNet5` Style"
      ]
    },
    {
      "cell_type": "code",
      "execution_count": 22,
      "metadata": {
        "id": "trFZ1GftyRqj"
      },
      "outputs": [],
      "source": [
        "from torch import nn\n",
        "import torch.nn.functional as F\n",
        "\n",
        "class LeNet5(nn.Module):\n",
        "    def __init__(self):\n",
        "        super(LeNet5, self).__init__()\n",
        "        self.conv1 = nn.Conv2d(3, 6, 5) # <1>\n",
        "        self.conv2 = nn.Conv2d(6, 16, 5)\n",
        "        \n",
        "        self.fc1 = nn.Linear(16 * 5 * 5, 120)\n",
        "        self.fc2 = nn.Linear(120, 84)\n",
        "        self.fc3 = nn.Linear(84, 10)\n",
        "\n",
        "    def forward(self, x):\n",
        "        x = F.max_pool2d(F.relu(self.conv1(x)), (2, 2))\n",
        "        x = F.max_pool2d(F.relu(self.conv2(x)), 2)\n",
        "        x = x.view(-1, int(x.nelement() / x.shape[0]))\n",
        "        x = F.relu(self.fc1(x))\n",
        "        x = F.relu(self.fc2(x))\n",
        "        x = self.fc3(x)\n",
        "        return x\n",
        "\n",
        "device = \"cuda\" if torch.cuda.is_available() else \"cpu\"\n",
        "model = LeNet5().to(device=device)"
      ]
    },
    {
      "cell_type": "markdown",
      "metadata": {
        "id": "2d2FZ-sJqI4F"
      },
      "source": [
        "## 5. Fundamental Training Loop"
      ]
    },
    {
      "cell_type": "code",
      "execution_count": 23,
      "metadata": {
        "id": "iEOGrjvNeNAN"
      },
      "outputs": [],
      "source": [
        "from torch import optim\n",
        "from torch import nn\n",
        "\n",
        "criterion = nn.CrossEntropyLoss()\n",
        "optimizer = optim.SGD(model.parameters(), # <1>\n",
        "                      lr=0.001, \n",
        "                      momentum=0.9)"
      ]
    },
    {
      "cell_type": "code",
      "execution_count": 24,
      "metadata": {
        "colab": {
          "base_uri": "https://localhost:8080/"
        },
        "id": "MbnVGZAqyx4Z",
        "outputId": "4b271618-1015-4f5a-bd0f-80c06cfbb750"
      },
      "outputs": [
        {
          "output_type": "stream",
          "name": "stdout",
          "text": [
            "Epoch: 0 Loss: 2.2126783298714385\n",
            "Epoch: 1 Loss: 1.9155704205298363\n",
            "Epoch: 2 Loss: 1.7449816149823807\n",
            "Epoch: 3 Loss: 1.6485155253764003\n",
            "Epoch: 4 Loss: 1.5788683469033302\n",
            "Epoch: 5 Loss: 1.5251636832876279\n",
            "Epoch: 6 Loss: 1.4751442501612027\n",
            "Epoch: 7 Loss: 1.4342470870298498\n",
            "Epoch: 8 Loss: 1.4049953496669565\n",
            "Epoch: 9 Loss: 1.3753911189715882\n"
          ]
        }
      ],
      "source": [
        "N_EPOCHS = 10 \n",
        "for epoch in range(N_EPOCHS): # <1>\n",
        "\n",
        "    epoch_loss = 0.0\n",
        "    for inputs, labels in trainloader:\n",
        "        inputs = inputs.to(device) # <2>\n",
        "        labels = labels.to(device)\n",
        "\n",
        "        optimizer.zero_grad() # <3>\n",
        "\n",
        "        outputs = model(inputs) # <4>\n",
        "        loss = criterion(outputs, labels) # <5>\n",
        "        loss.backward() # <6>\n",
        "        optimizer.step() # <7>\n",
        "\n",
        "        epoch_loss += loss.item() # <8>\n",
        "    print(\"Epoch: {} Loss: {}\".format(epoch, \n",
        "                  epoch_loss/len(trainloader)))"
      ]
    },
    {
      "cell_type": "markdown",
      "metadata": {
        "id": "YB9ASgpbntGf"
      },
      "source": [
        "## 6. Train with Validation set "
      ]
    },
    {
      "cell_type": "markdown",
      "metadata": {
        "id": "PR4ORHO1qXrk"
      },
      "source": [
        "### 6-1. Splitting Train/Validation Datasets"
      ]
    },
    {
      "cell_type": "code",
      "execution_count": 25,
      "metadata": {
        "colab": {
          "base_uri": "https://localhost:8080/"
        },
        "id": "blijECmJg9aF",
        "outputId": "3ab0a80e-1821-471d-ef45-fe5dcb124c3a"
      },
      "outputs": [
        {
          "output_type": "stream",
          "name": "stdout",
          "text": [
            "2500\n",
            "625\n"
          ]
        }
      ],
      "source": [
        "from torch.utils.data import random_split\n",
        "\n",
        "train_set, val_set = random_split(\n",
        "                      train_data, \n",
        "                      [40000, 10000])\n",
        "\n",
        "trainloader = torch.utils.data.DataLoader(\n",
        "                    train_set, \n",
        "                    batch_size=16, \n",
        "                    shuffle=True)\n",
        "\n",
        "valloader = torch.utils.data.DataLoader(\n",
        "                    val_set, \n",
        "                    batch_size=16, \n",
        "                    shuffle=True)\n",
        "\n",
        "print(len(trainloader))\n",
        "print(len(valloader))"
      ]
    },
    {
      "cell_type": "markdown",
      "metadata": {
        "id": "4rR9gFCxn6yK"
      },
      "source": [
        "### 6-2. Training Loop with Validation"
      ]
    },
    {
      "cell_type": "code",
      "execution_count": 26,
      "metadata": {
        "id": "1nzIXSsbiARZ"
      },
      "outputs": [],
      "source": [
        "from torch import optim\n",
        "from torch import nn\n",
        "\n",
        "model = LeNet5().to(device)\n",
        "criterion = nn.CrossEntropyLoss()\n",
        "optimizer = optim.SGD(model.parameters(), \n",
        "                      lr=0.001, \n",
        "                      momentum=0.9)"
      ]
    },
    {
      "cell_type": "code",
      "execution_count": 27,
      "metadata": {
        "colab": {
          "base_uri": "https://localhost:8080/"
        },
        "id": "qfaZf6Zlugzm",
        "outputId": "7ee20a1c-7848-4d1d-9872-e952c7443624"
      },
      "outputs": [
        {
          "output_type": "stream",
          "name": "stdout",
          "text": [
            "Epoch: 0 Train Loss: 1.9846339773654937 Val Loss: 1.737335072517395\n",
            "Epoch: 1 Train Loss: 1.6717952834129333 Val Loss: 1.6004587377548218\n",
            "Epoch: 2 Train Loss: 1.5527841733455658 Val Loss: 1.4859876925468445\n",
            "Epoch: 3 Train Loss: 1.4659450975894928 Val Loss: 1.4209067801475526\n",
            "Epoch: 4 Train Loss: 1.407873698759079 Val Loss: 1.3934617197990418\n",
            "Epoch: 5 Train Loss: 1.3696583562850952 Val Loss: 1.3701095726966859\n",
            "Epoch: 6 Train Loss: 1.3224613290548324 Val Loss: 1.3047871487617493\n",
            "Epoch: 7 Train Loss: 1.2886700919151306 Val Loss: 1.2706647946834564\n",
            "Epoch: 8 Train Loss: 1.2569164001703261 Val Loss: 1.276824865627289\n",
            "Epoch: 9 Train Loss: 1.2259757262706756 Val Loss: 1.2252483823776246\n"
          ]
        }
      ],
      "source": [
        "N_EPOCHS = 10\n",
        "for epoch in range(N_EPOCHS):\n",
        "\n",
        "    # Training \n",
        "    train_loss = 0.0\n",
        "    model.train() # <1>\n",
        "    for inputs, labels in trainloader:\n",
        "        inputs = inputs.to(device)\n",
        "        labels = labels.to(device)\n",
        "\n",
        "        optimizer.zero_grad()\n",
        "\n",
        "        outputs = model(inputs)\n",
        "        loss = criterion(outputs, labels)\n",
        "        loss.backward()\n",
        "        optimizer.step()\n",
        "\n",
        "        train_loss += loss.item()\n",
        "\n",
        "    # Validation\n",
        "    val_loss = 0.0\n",
        "    model.eval() # <2>\n",
        "    for inputs, labels in valloader:\n",
        "        inputs = inputs.to(device)\n",
        "        labels = labels.to(device)\n",
        "\n",
        "        outputs = model(inputs)\n",
        "        loss = criterion(outputs, labels)\n",
        "\n",
        "        val_loss += loss.item()\n",
        "\n",
        "    print(\"Epoch: {} Train Loss: {} Val Loss: {}\".format(\n",
        "                  epoch, \n",
        "                  train_loss/len(trainloader), \n",
        "                  val_loss/len(valloader)))"
      ]
    },
    {
      "cell_type": "markdown",
      "metadata": {
        "id": "Pv8KL1rwoBqR"
      },
      "source": [
        "### 6-3. Metrics with Testset"
      ]
    },
    {
      "cell_type": "code",
      "execution_count": 28,
      "metadata": {
        "colab": {
          "base_uri": "https://localhost:8080/"
        },
        "id": "FrXSQmnBKZew",
        "outputId": "b862773b-2578-4d60-9877-129be206a7b8"
      },
      "outputs": [
        {
          "output_type": "stream",
          "name": "stdout",
          "text": [
            "157 64\n",
            "Test Accuracy: 0.5922572016716003\n"
          ]
        }
      ],
      "source": [
        "num_correct = 0.0\n",
        "for x_test_batch, y_test_batch in testloader:\n",
        "    model.eval()\n",
        "    y_test_batch = y_test_batch.to(device)\n",
        "    x_test_batch = x_test_batch.to(device)\n",
        "    \n",
        "    y_pred_batch = model(x_test_batch)\n",
        "    _, predicted = torch.max(y_pred_batch, 1)\n",
        "    num_correct += (predicted == y_test_batch).float().sum()\n",
        "\n",
        "accuracy = num_correct/(len(testloader)*testloader.batch_size) \n",
        "\n",
        "print(len(testloader), testloader.batch_size)\n",
        "print(\"Test Accuracy: {}\".format(accuracy))"
      ]
    },
    {
      "cell_type": "markdown",
      "metadata": {
        "id": "xgGlh3G6q03-"
      },
      "source": [
        "## 8. Model Save & Load"
      ]
    },
    {
      "cell_type": "code",
      "execution_count": 30,
      "metadata": {
        "id": "RoiKrYfse6IK"
      },
      "outputs": [],
      "source": [
        "torch.save(model.state_dict(), \"./models/lenet5_model.pt\")"
      ]
    },
    {
      "cell_type": "code",
      "execution_count": 31,
      "metadata": {
        "colab": {
          "base_uri": "https://localhost:8080/"
        },
        "id": "3Ry_4_HXae5f",
        "outputId": "2104393c-19d9-4a3f-f481-81d1c9facce8"
      },
      "outputs": [
        {
          "output_type": "execute_result",
          "data": {
            "text/plain": [
              "<All keys matched successfully>"
            ]
          },
          "metadata": {},
          "execution_count": 31
        }
      ],
      "source": [
        "model = LeNet5().to(device)\n",
        "model.load_state_dict(torch.load(\"./models/lenet5_model.pt\"))"
      ]
    }
  ],
  "metadata": {
    "accelerator": "GPU",
    "colab": {
      "provenance": [],
      "include_colab_link": true
    },
    "kernelspec": {
      "display_name": "pytorch",
      "language": "python",
      "name": "pytorch"
    },
    "language_info": {
      "codemirror_mode": {
        "name": "ipython",
        "version": 3
      },
      "file_extension": ".py",
      "mimetype": "text/x-python",
      "name": "python",
      "nbconvert_exporter": "python",
      "pygments_lexer": "ipython3",
      "version": "3.8.12"
    }
  },
  "nbformat": 4,
  "nbformat_minor": 0
}