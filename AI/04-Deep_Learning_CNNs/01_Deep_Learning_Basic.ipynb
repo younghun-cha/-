{
  "cells": [
    {
      "cell_type": "markdown",
      "metadata": {
        "id": "view-in-github",
        "colab_type": "text"
      },
      "source": [
        "<a href=\"https://colab.research.google.com/github/younghun-cha/Healthcare-Big-Data-Engineer/blob/main/AI/04-Deep_Learning_CNNs/01_Deep_Learning_Basic.ipynb\" target=\"_parent\"><img src=\"https://colab.research.google.com/assets/colab-badge.svg\" alt=\"Open In Colab\"/></a>"
      ]
    },
    {
      "cell_type": "markdown",
      "metadata": {
        "id": "JzcN-kOdiKcK"
      },
      "source": [
        "# PyTorch: Deep Learning 기본"
      ]
    },
    {
      "cell_type": "markdown",
      "metadata": {
        "id": "rbw0uEyqiKca"
      },
      "source": [
        "## 1. Linear Regression: 선형 회귀"
      ]
    },
    {
      "cell_type": "code",
      "execution_count": 3,
      "metadata": {
        "id": "s1j7JCcAiKcc"
      },
      "outputs": [],
      "source": [
        "import torch\n",
        "import numpy as np\n",
        "import pandas as pd\n",
        "import matplotlib.pyplot as plt"
      ]
    },
    {
      "cell_type": "code",
      "execution_count": 4,
      "metadata": {
        "colab": {
          "base_uri": "https://localhost:8080/",
          "height": 423
        },
        "id": "Vb-0s4euiKcl",
        "outputId": "f7f93788-c5e7-4655-b02f-1c31a9e14bf7"
      },
      "outputs": [
        {
          "output_type": "execute_result",
          "data": {
            "text/plain": [
              "        TV  Radio  Newspaper  Sales\n",
              "0    230.1   37.8       69.2   22.1\n",
              "1     44.5   39.3       45.1   10.4\n",
              "2     17.2   45.9       69.3    9.3\n",
              "3    151.5   41.3       58.5   18.5\n",
              "4    180.8   10.8       58.4   12.9\n",
              "..     ...    ...        ...    ...\n",
              "195   38.2    3.7       13.8    7.6\n",
              "196   94.2    4.9        8.1    9.7\n",
              "197  177.0    9.3        6.4   12.8\n",
              "198  283.6   42.0       66.2   25.5\n",
              "199  232.1    8.6        8.7   13.4\n",
              "\n",
              "[200 rows x 4 columns]"
            ],
            "text/html": [
              "\n",
              "  <div id=\"df-2fd7230f-6773-4466-a1c6-34d74a554925\">\n",
              "    <div class=\"colab-df-container\">\n",
              "      <div>\n",
              "<style scoped>\n",
              "    .dataframe tbody tr th:only-of-type {\n",
              "        vertical-align: middle;\n",
              "    }\n",
              "\n",
              "    .dataframe tbody tr th {\n",
              "        vertical-align: top;\n",
              "    }\n",
              "\n",
              "    .dataframe thead th {\n",
              "        text-align: right;\n",
              "    }\n",
              "</style>\n",
              "<table border=\"1\" class=\"dataframe\">\n",
              "  <thead>\n",
              "    <tr style=\"text-align: right;\">\n",
              "      <th></th>\n",
              "      <th>TV</th>\n",
              "      <th>Radio</th>\n",
              "      <th>Newspaper</th>\n",
              "      <th>Sales</th>\n",
              "    </tr>\n",
              "  </thead>\n",
              "  <tbody>\n",
              "    <tr>\n",
              "      <th>0</th>\n",
              "      <td>230.1</td>\n",
              "      <td>37.8</td>\n",
              "      <td>69.2</td>\n",
              "      <td>22.1</td>\n",
              "    </tr>\n",
              "    <tr>\n",
              "      <th>1</th>\n",
              "      <td>44.5</td>\n",
              "      <td>39.3</td>\n",
              "      <td>45.1</td>\n",
              "      <td>10.4</td>\n",
              "    </tr>\n",
              "    <tr>\n",
              "      <th>2</th>\n",
              "      <td>17.2</td>\n",
              "      <td>45.9</td>\n",
              "      <td>69.3</td>\n",
              "      <td>9.3</td>\n",
              "    </tr>\n",
              "    <tr>\n",
              "      <th>3</th>\n",
              "      <td>151.5</td>\n",
              "      <td>41.3</td>\n",
              "      <td>58.5</td>\n",
              "      <td>18.5</td>\n",
              "    </tr>\n",
              "    <tr>\n",
              "      <th>4</th>\n",
              "      <td>180.8</td>\n",
              "      <td>10.8</td>\n",
              "      <td>58.4</td>\n",
              "      <td>12.9</td>\n",
              "    </tr>\n",
              "    <tr>\n",
              "      <th>...</th>\n",
              "      <td>...</td>\n",
              "      <td>...</td>\n",
              "      <td>...</td>\n",
              "      <td>...</td>\n",
              "    </tr>\n",
              "    <tr>\n",
              "      <th>195</th>\n",
              "      <td>38.2</td>\n",
              "      <td>3.7</td>\n",
              "      <td>13.8</td>\n",
              "      <td>7.6</td>\n",
              "    </tr>\n",
              "    <tr>\n",
              "      <th>196</th>\n",
              "      <td>94.2</td>\n",
              "      <td>4.9</td>\n",
              "      <td>8.1</td>\n",
              "      <td>9.7</td>\n",
              "    </tr>\n",
              "    <tr>\n",
              "      <th>197</th>\n",
              "      <td>177.0</td>\n",
              "      <td>9.3</td>\n",
              "      <td>6.4</td>\n",
              "      <td>12.8</td>\n",
              "    </tr>\n",
              "    <tr>\n",
              "      <th>198</th>\n",
              "      <td>283.6</td>\n",
              "      <td>42.0</td>\n",
              "      <td>66.2</td>\n",
              "      <td>25.5</td>\n",
              "    </tr>\n",
              "    <tr>\n",
              "      <th>199</th>\n",
              "      <td>232.1</td>\n",
              "      <td>8.6</td>\n",
              "      <td>8.7</td>\n",
              "      <td>13.4</td>\n",
              "    </tr>\n",
              "  </tbody>\n",
              "</table>\n",
              "<p>200 rows × 4 columns</p>\n",
              "</div>\n",
              "      <button class=\"colab-df-convert\" onclick=\"convertToInteractive('df-2fd7230f-6773-4466-a1c6-34d74a554925')\"\n",
              "              title=\"Convert this dataframe to an interactive table.\"\n",
              "              style=\"display:none;\">\n",
              "        \n",
              "  <svg xmlns=\"http://www.w3.org/2000/svg\" height=\"24px\"viewBox=\"0 0 24 24\"\n",
              "       width=\"24px\">\n",
              "    <path d=\"M0 0h24v24H0V0z\" fill=\"none\"/>\n",
              "    <path d=\"M18.56 5.44l.94 2.06.94-2.06 2.06-.94-2.06-.94-.94-2.06-.94 2.06-2.06.94zm-11 1L8.5 8.5l.94-2.06 2.06-.94-2.06-.94L8.5 2.5l-.94 2.06-2.06.94zm10 10l.94 2.06.94-2.06 2.06-.94-2.06-.94-.94-2.06-.94 2.06-2.06.94z\"/><path d=\"M17.41 7.96l-1.37-1.37c-.4-.4-.92-.59-1.43-.59-.52 0-1.04.2-1.43.59L10.3 9.45l-7.72 7.72c-.78.78-.78 2.05 0 2.83L4 21.41c.39.39.9.59 1.41.59.51 0 1.02-.2 1.41-.59l7.78-7.78 2.81-2.81c.8-.78.8-2.07 0-2.86zM5.41 20L4 18.59l7.72-7.72 1.47 1.35L5.41 20z\"/>\n",
              "  </svg>\n",
              "      </button>\n",
              "      \n",
              "  <style>\n",
              "    .colab-df-container {\n",
              "      display:flex;\n",
              "      flex-wrap:wrap;\n",
              "      gap: 12px;\n",
              "    }\n",
              "\n",
              "    .colab-df-convert {\n",
              "      background-color: #E8F0FE;\n",
              "      border: none;\n",
              "      border-radius: 50%;\n",
              "      cursor: pointer;\n",
              "      display: none;\n",
              "      fill: #1967D2;\n",
              "      height: 32px;\n",
              "      padding: 0 0 0 0;\n",
              "      width: 32px;\n",
              "    }\n",
              "\n",
              "    .colab-df-convert:hover {\n",
              "      background-color: #E2EBFA;\n",
              "      box-shadow: 0px 1px 2px rgba(60, 64, 67, 0.3), 0px 1px 3px 1px rgba(60, 64, 67, 0.15);\n",
              "      fill: #174EA6;\n",
              "    }\n",
              "\n",
              "    [theme=dark] .colab-df-convert {\n",
              "      background-color: #3B4455;\n",
              "      fill: #D2E3FC;\n",
              "    }\n",
              "\n",
              "    [theme=dark] .colab-df-convert:hover {\n",
              "      background-color: #434B5C;\n",
              "      box-shadow: 0px 1px 3px 1px rgba(0, 0, 0, 0.15);\n",
              "      filter: drop-shadow(0px 1px 2px rgba(0, 0, 0, 0.3));\n",
              "      fill: #FFFFFF;\n",
              "    }\n",
              "  </style>\n",
              "\n",
              "      <script>\n",
              "        const buttonEl =\n",
              "          document.querySelector('#df-2fd7230f-6773-4466-a1c6-34d74a554925 button.colab-df-convert');\n",
              "        buttonEl.style.display =\n",
              "          google.colab.kernel.accessAllowed ? 'block' : 'none';\n",
              "\n",
              "        async function convertToInteractive(key) {\n",
              "          const element = document.querySelector('#df-2fd7230f-6773-4466-a1c6-34d74a554925');\n",
              "          const dataTable =\n",
              "            await google.colab.kernel.invokeFunction('convertToInteractive',\n",
              "                                                     [key], {});\n",
              "          if (!dataTable) return;\n",
              "\n",
              "          const docLinkHtml = 'Like what you see? Visit the ' +\n",
              "            '<a target=\"_blank\" href=https://colab.research.google.com/notebooks/data_table.ipynb>data table notebook</a>'\n",
              "            + ' to learn more about interactive tables.';\n",
              "          element.innerHTML = '';\n",
              "          dataTable['output_type'] = 'display_data';\n",
              "          await google.colab.output.renderOutput(dataTable, element);\n",
              "          const docLink = document.createElement('div');\n",
              "          docLink.innerHTML = docLinkHtml;\n",
              "          element.appendChild(docLink);\n",
              "        }\n",
              "      </script>\n",
              "    </div>\n",
              "  </div>\n",
              "  "
            ]
          },
          "metadata": {},
          "execution_count": 4
        }
      ],
      "source": [
        "df = pd.read_csv('../dataset/tv-advertising.csv')\n",
        "df"
      ]
    },
    {
      "cell_type": "code",
      "execution_count": 5,
      "metadata": {
        "colab": {
          "base_uri": "https://localhost:8080/",
          "height": 449
        },
        "id": "msVJPjBNiKco",
        "outputId": "41f793ac-e41e-4501-9ee6-70087d6ff8f8"
      },
      "outputs": [
        {
          "output_type": "display_data",
          "data": {
            "text/plain": [
              "<Figure size 640x480 with 1 Axes>"
            ],
            "image/png": "[encoded data removed]"
          },
          "metadata": {}
        }
      ],
      "source": [
        "# TV 광고비용별 매출 시각화\n",
        "import matplotlib.pyplot as plt\n",
        "\n",
        "plt.plot(df.TV, df.Sales,'bo')\n",
        "plt.xlabel('TV Advertisement(M$)')\n",
        "plt.ylabel('Sales Revenue(B$)')\n",
        "\n",
        "plt.show()"
      ]
    },
    {
      "cell_type": "code",
      "execution_count": 6,
      "metadata": {
        "colab": {
          "base_uri": "https://localhost:8080/",
          "height": 467
        },
        "id": "pMJ7k-OwiKcp",
        "outputId": "f9193f11-128c-4bef-b5ca-08d1dc778bbb"
      },
      "outputs": [
        {
          "output_type": "stream",
          "name": "stdout",
          "text": [
            "a: 0.047536639810454806 b: 7.032593648780168\n"
          ]
        },
        {
          "output_type": "display_data",
          "data": {
            "text/plain": [
              "<Figure size 640x480 with 1 Axes>"
            ],
            "image/png": "[encoded data removed]"
          },
          "metadata": {}
        }
      ],
      "source": [
        "# 4.3 최소제곱법으로 회귀선 구하기\n",
        "import numpy as np\n",
        "import matplotlib.pyplot as plt\n",
        "\n",
        "X = df.TV.values.astype(np.float32)\n",
        "Y = df.Sales.values.astype(np.float32)\n",
        "\n",
        "# X, Y의 평균을 구합니다.\n",
        "x_bar = sum(X) / len(X)\n",
        "y_bar = sum(Y) / len(Y)\n",
        "\n",
        "# 최소제곱법으로 a, b를 구합니다.\n",
        "a = sum([(y - y_bar) * (x - x_bar) for y, x in list(zip(Y, X))])\n",
        "a /= sum([(x - x_bar) ** 2 for x in X])\n",
        "b = y_bar - a * x_bar\n",
        "print('a:', a, 'b:', b)\n",
        "\n",
        "# 그래프를 그리기 위해 회귀선의 x, y 데이터를 구합니다.\n",
        "line_x = np.arange(min(X), max(X), 0.01)\n",
        "line_y = a * line_x + b\n",
        "\n",
        "# 붉은색 실선으로 회귀선을 그립니다.\n",
        "plt.plot(line_x,line_y,'r-')\n",
        "\n",
        "plt.plot(X,Y,'bo')\n",
        "plt.xlabel('TV Advertisement(M$)')\n",
        "plt.ylabel('Sales Revenue(B$)')\n",
        "plt.show()"
      ]
    },
    {
      "cell_type": "markdown",
      "metadata": {
        "id": "nwuaEXQaiKcq"
      },
      "source": [
        "## 2. PyTorch Linear Regression"
      ]
    },
    {
      "cell_type": "markdown",
      "metadata": {
        "id": "3vANyGTviKcr"
      },
      "source": [
        "### 2-1. DataLoader 구축"
      ]
    },
    {
      "cell_type": "code",
      "execution_count": 7,
      "metadata": {
        "colab": {
          "base_uri": "https://localhost:8080/"
        },
        "id": "p2-J-TL0iKct",
        "outputId": "2e19cd8f-d2f4-45ad-e696-cda3c3f1569f"
      },
      "outputs": [
        {
          "output_type": "execute_result",
          "data": {
            "text/plain": [
              "((140,), (60,))"
            ]
          },
          "metadata": {},
          "execution_count": 7
        }
      ],
      "source": [
        "from sklearn.model_selection import train_test_split\n",
        "\n",
        "X_train, X_test, y_train, y_test = train_test_split(X, Y, \n",
        "                                                    train_size=0.7 , \n",
        "                                                    random_state=100)\n",
        "X_train.shape, X_test.shape"
      ]
    },
    {
      "cell_type": "code",
      "execution_count": 8,
      "metadata": {
        "id": "CbYbOvvniKcw"
      },
      "outputs": [],
      "source": [
        "from torch.utils.data import TensorDataset, DataLoader\n",
        "\n",
        "X_train_norm = (X_train - np.mean(X_train)) / np.std(X_train)\n",
        "X_train_norm = torch.from_numpy(X_train_norm)\n",
        "y_train = torch.from_numpy(y_train)\n",
        "\n",
        "train_ds = TensorDataset(X_train_norm, y_train)\n",
        "\n",
        "batch_size = 1\n",
        "train_dl = DataLoader(train_ds, \n",
        "                      batch_size, \n",
        "                      shuffle=True)"
      ]
    },
    {
      "cell_type": "markdown",
      "metadata": {
        "id": "Svoh7VrwiKc2"
      },
      "source": [
        "### 2-2. Loss, Weight, Bias"
      ]
    },
    {
      "cell_type": "code",
      "execution_count": 9,
      "metadata": {
        "id": "UukJvK5TiKc3"
      },
      "outputs": [],
      "source": [
        "torch.manual_seed(1)\n",
        "weight = torch.randn(1)\n",
        "weight.requires_grad_()\n",
        "bias = torch.zeros(1, requires_grad=True)\n",
        " \n",
        "def loss_fn(input, target):\n",
        "    return (input-target).pow(2).mean()\n",
        "\n",
        "def model(xb):\n",
        "    return xb @ weight + bias"
      ]
    },
    {
      "cell_type": "markdown",
      "metadata": {
        "id": "ma319SWhiKc5"
      },
      "source": [
        "### 2-3. no_grad() 학습"
      ]
    },
    {
      "cell_type": "code",
      "execution_count": 10,
      "metadata": {
        "colab": {
          "base_uri": "https://localhost:8080/"
        },
        "id": "ax5KErZsiKc8",
        "outputId": "033cc568-f0e4-44f7-83d7-51ab19cf5f63"
      },
      "outputs": [
        {
          "output_type": "stream",
          "name": "stdout",
          "text": [
            "Epoch 0  Loss 39.9149\n",
            "Epoch 10  Loss 6.5228\n",
            "Epoch 20  Loss 0.0080\n",
            "Epoch 30  Loss 65.6664\n",
            "Epoch 40  Loss 0.0376\n",
            "Epoch 50  Loss 1.3861\n",
            "Epoch 60  Loss 15.9411\n",
            "Epoch 70  Loss 0.3749\n",
            "Epoch 80  Loss 0.0178\n",
            "Epoch 90  Loss 15.6691\n",
            "Epoch 100  Loss 15.9481\n",
            "Epoch 110  Loss 1.2977\n",
            "Epoch 120  Loss 0.3684\n",
            "Epoch 130  Loss 0.9329\n",
            "Epoch 140  Loss 2.2843\n",
            "Epoch 150  Loss 24.7824\n",
            "Epoch 160  Loss 32.1975\n",
            "Epoch 170  Loss 13.9011\n",
            "Epoch 180  Loss 4.3724\n",
            "Epoch 190  Loss 0.6546\n"
          ]
        }
      ],
      "source": [
        "learning_rate = 0.001\n",
        "num_epochs = 200\n",
        "log_epochs = 10\n",
        "\n",
        "for epoch in range(num_epochs):\n",
        "    for x_batch, y_batch in train_dl:\n",
        "        pred = model(x_batch)\n",
        "        loss = loss_fn(pred, y_batch)\n",
        "        loss.backward()\n",
        "\n",
        "        with torch.no_grad():\n",
        "            weight -= weight.grad * learning_rate\n",
        "            bias -= bias.grad * learning_rate\n",
        "            weight.grad.zero_()\n",
        "            bias.grad.zero_()\n",
        " \n",
        "    if epoch % log_epochs==0:\n",
        "        print(f'Epoch {epoch}  Loss {loss.item():.4f}')"
      ]
    },
    {
      "cell_type": "markdown",
      "metadata": {
        "id": "aodu1f5XiKdA"
      },
      "source": [
        "### 2-4. Prediction"
      ]
    },
    {
      "cell_type": "code",
      "execution_count": 11,
      "metadata": {
        "colab": {
          "base_uri": "https://localhost:8080/"
        },
        "id": "mJCOKZBgiKdB",
        "outputId": "cef0bcd2-eef8-4ab0-acd9-a18e85d622e1"
      },
      "outputs": [
        {
          "output_type": "stream",
          "name": "stdout",
          "text": [
            "Final Parameters: 4.301880359649658 13.854516983032227\n"
          ]
        }
      ],
      "source": [
        "print('Final Parameters:', weight.item(), bias.item())\n",
        "\n",
        "X_test = X_test.reshape(-1, 1)\n",
        "X_test_norm = (X_test - np.mean(X_train)) / np.std(X_train)\n",
        "X_test_norm = torch.from_numpy(X_test_norm)\n",
        "y_pred = model(X_test_norm).detach().numpy()"
      ]
    },
    {
      "cell_type": "markdown",
      "metadata": {
        "id": "3rabrkQdiKdC"
      },
      "source": [
        "### 2-5. Visualization"
      ]
    },
    {
      "cell_type": "code",
      "execution_count": 12,
      "metadata": {
        "id": "STS5frgjiKdE"
      },
      "outputs": [],
      "source": [
        "def linear_plot():\n",
        "    fig = plt.figure(figsize=(13, 5))\n",
        "    ax = fig.add_subplot(1, 2, 1)\n",
        "    plt.plot(X_train_norm, y_train, 'o', markersize=3)\n",
        "    plt.plot(X_test_norm, y_pred, '--', lw=2)\n",
        "    plt.legend(['Training examples', 'Linear Reg.'], fontsize=15)\n",
        "    ax.set_xlabel('x', size=15)\n",
        "    ax.set_ylabel('y', size=15)\n",
        "    ax.tick_params(axis='both', which='major', labelsize=15)\n",
        "\n",
        "    plt.show()"
      ]
    },
    {
      "cell_type": "code",
      "execution_count": 13,
      "metadata": {
        "colab": {
          "base_uri": "https://localhost:8080/",
          "height": 477
        },
        "id": "i9oYAwN5iKdF",
        "outputId": "59a517e2-1d7b-43bd-d248-3575994ba715"
      },
      "outputs": [
        {
          "output_type": "display_data",
          "data": {
            "text/plain": [
              "<Figure size 1300x500 with 1 Axes>"
            ],
            "image/png": "[encoded data removed]"
          },
          "metadata": {}
        }
      ],
      "source": [
        "linear_plot()"
      ]
    },
    {
      "cell_type": "markdown",
      "metadata": {
        "id": "ig0FywRYiKdG"
      },
      "source": [
        "### 2-2. Train: torch.nn & torch.optim (Optimizer)"
      ]
    },
    {
      "cell_type": "code",
      "execution_count": 14,
      "metadata": {
        "colab": {
          "base_uri": "https://localhost:8080/"
        },
        "id": "JgIOiZBAiKdH",
        "outputId": "ace305af-081d-46f2-9508-9908c504a157"
      },
      "outputs": [
        {
          "output_type": "stream",
          "name": "stderr",
          "text": [
            "/usr/local/lib/python3.10/dist-packages/torch/nn/modules/loss.py:536: UserWarning: Using a target size (torch.Size([1])) that is different to the input size (torch.Size([])). This will likely lead to incorrect results due to broadcasting. Please ensure they have the same size.\n",
            "  return F.mse_loss(input, target, reduction=self.reduction)\n"
          ]
        },
        {
          "output_type": "stream",
          "name": "stdout",
          "text": [
            "Epoch 0  Loss 70.3850\n",
            "Epoch 10  Loss 2.3432\n",
            "Epoch 20  Loss 0.9598\n",
            "Epoch 30  Loss 1.9510\n",
            "Epoch 40  Loss 36.9903\n",
            "Epoch 50  Loss 8.2809\n",
            "Epoch 60  Loss 0.0059\n",
            "Epoch 70  Loss 50.7231\n",
            "Epoch 80  Loss 14.0436\n",
            "Epoch 90  Loss 29.5912\n",
            "Epoch 100  Loss 0.3802\n",
            "Epoch 110  Loss 34.7300\n",
            "Epoch 120  Loss 34.2160\n",
            "Epoch 130  Loss 5.0460\n",
            "Epoch 140  Loss 34.4347\n",
            "Epoch 150  Loss 4.4566\n",
            "Epoch 160  Loss 4.6622\n",
            "Epoch 170  Loss 1.6094\n",
            "Epoch 180  Loss 5.3504\n",
            "Epoch 190  Loss 0.9156\n"
          ]
        }
      ],
      "source": [
        "import torch.nn as nn\n",
        "\n",
        "input_size = 1\n",
        "output_size = 1\n",
        "model = nn.Linear(input_size, output_size)\n",
        "\n",
        "loss_fn = nn.MSELoss(reduction='mean')\n",
        "\n",
        "optimizer = torch.optim.SGD(model.parameters(), lr=learning_rate)\n",
        "\n",
        "for epoch in range(num_epochs):\n",
        "    for x_batch, y_batch in train_dl:\n",
        "        # 1. Generate predictions\n",
        "        pred = model(x_batch)[0]\n",
        "\n",
        "        # 2. Calculate loss\n",
        "        loss = loss_fn(pred, y_batch)\n",
        "\n",
        "        # 3. Compute gradients\n",
        "        loss.backward()\n",
        "\n",
        "        # 4. Update parameters using gradients\n",
        "        optimizer.step()\n",
        "\n",
        "        # 5. Reset the gradients to zero\n",
        "        optimizer.zero_grad()\n",
        "        \n",
        "    if epoch % log_epochs==0:\n",
        "        print(f'Epoch {epoch}  Loss {loss.item():.4f}')"
      ]
    },
    {
      "cell_type": "code",
      "execution_count": 15,
      "metadata": {
        "colab": {
          "base_uri": "https://localhost:8080/"
        },
        "id": "xdFIBdypiKdK",
        "outputId": "e393860e-c345-4039-f81c-be8a00bc06f5"
      },
      "outputs": [
        {
          "output_type": "stream",
          "name": "stdout",
          "text": [
            "Final Parameters: 4.301880359649658 13.854516983032227\n"
          ]
        }
      ],
      "source": [
        "print('Final Parameters:', weight.item(), bias.item())\n",
        "\n",
        "X_test = X_test.reshape(-1, 1)\n",
        "X_test_norm = (X_test - np.mean(X_train)) / np.std(X_train)\n",
        "X_test_norm = torch.from_numpy(X_test_norm)\n",
        "y_pred = model(X_test_norm).detach().numpy()"
      ]
    },
    {
      "cell_type": "code",
      "execution_count": 16,
      "metadata": {
        "colab": {
          "base_uri": "https://localhost:8080/",
          "height": 477
        },
        "id": "KD0WnlfbiKdL",
        "outputId": "d3f5f2c0-f3da-4455-83b2-d9fe2cabca93"
      },
      "outputs": [
        {
          "output_type": "display_data",
          "data": {
            "text/plain": [
              "<Figure size 1300x500 with 1 Axes>"
            ],
            "image/png": "[encoded data removed]"
          },
          "metadata": {}
        }
      ],
      "source": [
        "linear_plot()"
      ]
    },
    {
      "cell_type": "markdown",
      "metadata": {
        "id": "zfuKFyKniKdN"
      },
      "source": [
        "## 3. Activation Function: 활성화 함수"
      ]
    },
    {
      "cell_type": "markdown",
      "metadata": {
        "id": "aIXIu6WNiKdO"
      },
      "source": [
        "### 3-1. Logistic Function"
      ]
    },
    {
      "cell_type": "code",
      "execution_count": 17,
      "metadata": {
        "colab": {
          "base_uri": "https://localhost:8080/"
        },
        "id": "d9ot8nfuiKdV",
        "outputId": "98a45b7f-ce7f-41b6-d155-2c3e6bfd6ca9"
      },
      "outputs": [
        {
          "output_type": "stream",
          "name": "stdout",
          "text": [
            "P(y=1|x) = 0.888\n"
          ]
        }
      ],
      "source": [
        "import numpy as np\n",
        "\n",
        "X = np.array([1, 1.4, 2.5]) ## first value must be 1\n",
        "w = np.array([0.4, 0.3, 0.5])\n",
        "\n",
        "def net_input(X, w):\n",
        "    return np.dot(X, w)\n",
        "\n",
        "def logistic(z):\n",
        "    return 1.0 / (1.0 + np.exp(-z))\n",
        "\n",
        "def logistic_activation(X, w):\n",
        "    z = net_input(X, w)\n",
        "    return logistic(z)\n",
        "\n",
        "print(f'P(y=1|x) = {logistic_activation(X, w):.3f}') "
      ]
    },
    {
      "cell_type": "code",
      "execution_count": 18,
      "metadata": {
        "colab": {
          "base_uri": "https://localhost:8080/"
        },
        "id": "wUhuumuHiKdW",
        "outputId": "6a5937ba-3638-4255-e536-13d80c21baca"
      },
      "outputs": [
        {
          "output_type": "stream",
          "name": "stdout",
          "text": [
            "Net Input: \n",
            " [1.78 0.76 1.65]\n",
            "Output Units:\n",
            " [0.85569687 0.68135373 0.83889105]\n"
          ]
        }
      ],
      "source": [
        "# W : shape = (n_output_units, n_hidden_units+1)\n",
        "\n",
        "W = np.array([[1.1, 1.2, 0.8, 0.4],\n",
        "              [0.2, 0.4, 1.0, 0.2],\n",
        "              [0.6, 1.5, 1.2, 0.7]])\n",
        "\n",
        "# A : shape = (n_hidden_units + 1, n_samples)\n",
        "A = np.array([[1, 0.1, 0.4, 0.6]])\n",
        "Z = np.dot(W, A[0])\n",
        "y_probas = logistic(Z)\n",
        "\n",
        "print('Net Input: \\n', Z)\n",
        "print('Output Units:\\n', y_probas) "
      ]
    },
    {
      "cell_type": "code",
      "execution_count": 19,
      "metadata": {
        "colab": {
          "base_uri": "https://localhost:8080/"
        },
        "id": "WvfkkHQXiKdX",
        "outputId": "fdb03ff5-f782-4f27-8e16-33c243003b5d"
      },
      "outputs": [
        {
          "output_type": "stream",
          "name": "stdout",
          "text": [
            "Predicted class label: 0\n"
          ]
        }
      ],
      "source": [
        "y_class = np.argmax(Z, axis=0)\n",
        "print('Predicted class label:', y_class) "
      ]
    },
    {
      "cell_type": "markdown",
      "metadata": {
        "id": "CC1L7_pViKdX"
      },
      "source": [
        "### 3-2. Softmax Function"
      ]
    },
    {
      "cell_type": "code",
      "execution_count": 20,
      "metadata": {
        "colab": {
          "base_uri": "https://localhost:8080/"
        },
        "id": "CBq83IQLiKdY",
        "outputId": "75511030-f2fd-4abb-9d81-a22183a058b1"
      },
      "outputs": [
        {
          "output_type": "stream",
          "name": "stdout",
          "text": [
            "Probabilities:\n",
            " [0.44668973 0.16107406 0.39223621]\n"
          ]
        },
        {
          "output_type": "execute_result",
          "data": {
            "text/plain": [
              "1.0"
            ]
          },
          "metadata": {},
          "execution_count": 20
        }
      ],
      "source": [
        "def softmax(z):\n",
        "    return np.exp(z) / np.sum(np.exp(z))\n",
        "\n",
        "y_probas = softmax(Z)\n",
        "print('Probabilities:\\n', y_probas)\n",
        "\n",
        "np.sum(y_probas)"
      ]
    },
    {
      "cell_type": "code",
      "execution_count": 21,
      "metadata": {
        "colab": {
          "base_uri": "https://localhost:8080/"
        },
        "id": "Yl4fPT47iKdZ",
        "outputId": "241b14a4-5d8e-46aa-bf46-58b1d6fa8254"
      },
      "outputs": [
        {
          "output_type": "execute_result",
          "data": {
            "text/plain": [
              "tensor([0.4467, 0.1611, 0.3922], dtype=torch.float64)"
            ]
          },
          "metadata": {},
          "execution_count": 21
        }
      ],
      "source": [
        "torch.softmax(torch.from_numpy(Z), dim=0)"
      ]
    },
    {
      "cell_type": "markdown",
      "metadata": {
        "id": "1x3SfcaOiKda"
      },
      "source": [
        "### 3-3. Hyperbolic Tangent"
      ]
    },
    {
      "cell_type": "code",
      "execution_count": 22,
      "metadata": {
        "colab": {
          "base_uri": "https://localhost:8080/",
          "height": 487
        },
        "id": "gWJdUgU1iKda",
        "outputId": "fadc0b02-d92a-422c-ab4d-39b6dbf0ed90"
      },
      "outputs": [
        {
          "output_type": "display_data",
          "data": {
            "text/plain": [
              "<Figure size 640x480 with 1 Axes>"
            ],
            "image/png": "[encoded data removed]"
          },
          "metadata": {}
        }
      ],
      "source": [
        "import matplotlib.pyplot as plt\n",
        "%matplotlib inline\n",
        "\n",
        "def tanh(z):\n",
        "    e_p = np.exp(z)\n",
        "    e_m = np.exp(-z)\n",
        "    return (e_p - e_m) / (e_p + e_m)\n",
        "\n",
        "z = np.arange(-5, 5, 0.005)\n",
        "log_act = logistic(z)\n",
        "tanh_act = tanh(z)\n",
        "plt.ylim([-1.5, 1.5])\n",
        "plt.xlabel('Net input $z$')\n",
        "plt.ylabel('Activation $\\phi(z)$')\n",
        "plt.axhline(1, color='black', linestyle=':')\n",
        "plt.axhline(0.5, color='black', linestyle=':')\n",
        "plt.axhline(0, color='black', linestyle=':')\n",
        "plt.axhline(-0.5, color='black', linestyle=':')\n",
        "plt.axhline(-1, color='black', linestyle=':')\n",
        "plt.plot(z, tanh_act,\n",
        "    linewidth=3, linestyle='--',\n",
        "    label='Tanh')\n",
        "plt.plot(z, log_act,\n",
        "    linewidth=3,\n",
        "    label='Logistic')\n",
        "plt.legend(loc='lower right')\n",
        "plt.tight_layout()\n",
        "\n",
        "plt.show()"
      ]
    },
    {
      "cell_type": "markdown",
      "metadata": {
        "id": "6LK9tiOhiKdb"
      },
      "source": [
        "### 3-4. ReLU(Rectified linear unit activation)"
      ]
    },
    {
      "cell_type": "code",
      "execution_count": 23,
      "metadata": {
        "colab": {
          "base_uri": "https://localhost:8080/"
        },
        "id": "etrl7OutiKdc",
        "outputId": "e0239ae7-4e32-4908-e44e-b3608a741267"
      },
      "outputs": [
        {
          "output_type": "execute_result",
          "data": {
            "text/plain": [
              "tensor([0.0000, 0.0000, 0.0000,  ..., 4.9850, 4.9900, 4.9950],\n",
              "       dtype=torch.float64)"
            ]
          },
          "metadata": {},
          "execution_count": 23
        }
      ],
      "source": [
        "torch.relu(torch.from_numpy(z))"
      ]
    },
    {
      "cell_type": "markdown",
      "metadata": {
        "id": "B4rgUK6FiKdd"
      },
      "source": [
        "## 4. Pytorch: Classification - Spaceship Titanic"
      ]
    },
    {
      "cell_type": "code",
      "execution_count": 24,
      "metadata": {
        "colab": {
          "base_uri": "https://localhost:8080/",
          "height": 206
        },
        "id": "8mnr1u3eiKde",
        "outputId": "d2b2ec40-2838-4f8d-e5df-b74681b3db3e"
      },
      "outputs": [
        {
          "output_type": "execute_result",
          "data": {
            "text/plain": [
              "   HomePlanet  CryoSleep  Destination   Age  VIP  RoomService  FoodCourt  \\\n",
              "0           1          0            2  39.0    0          0.0        0.0   \n",
              "1           0          0            2  24.0    0        109.0        9.0   \n",
              "2           1          0            2  58.0    1         43.0     3576.0   \n",
              "3           1          0            2  33.0    0          0.0     1283.0   \n",
              "4           0          0            2  16.0    0        303.0       70.0   \n",
              "\n",
              "   ShoppingMall     Spa  VRDeck  Transported  \n",
              "0           0.0     0.0     0.0            0  \n",
              "1          25.0   549.0    44.0            1  \n",
              "2           0.0  6715.0    49.0            0  \n",
              "3         371.0  3329.0   193.0            0  \n",
              "4         151.0   565.0     2.0            1  "
            ],
            "text/html": [
              "\n",
              "  <div id=\"df-98622bd6-ed42-4f98-b184-6168a96426b2\">\n",
              "    <div class=\"colab-df-container\">\n",
              "      <div>\n",
              "<style scoped>\n",
              "    .dataframe tbody tr th:only-of-type {\n",
              "        vertical-align: middle;\n",
              "    }\n",
              "\n",
              "    .dataframe tbody tr th {\n",
              "        vertical-align: top;\n",
              "    }\n",
              "\n",
              "    .dataframe thead th {\n",
              "        text-align: right;\n",
              "    }\n",
              "</style>\n",
              "<table border=\"1\" class=\"dataframe\">\n",
              "  <thead>\n",
              "    <tr style=\"text-align: right;\">\n",
              "      <th></th>\n",
              "      <th>HomePlanet</th>\n",
              "      <th>CryoSleep</th>\n",
              "      <th>Destination</th>\n",
              "      <th>Age</th>\n",
              "      <th>VIP</th>\n",
              "      <th>RoomService</th>\n",
              "      <th>FoodCourt</th>\n",
              "      <th>ShoppingMall</th>\n",
              "      <th>Spa</th>\n",
              "      <th>VRDeck</th>\n",
              "      <th>Transported</th>\n",
              "    </tr>\n",
              "  </thead>\n",
              "  <tbody>\n",
              "    <tr>\n",
              "      <th>0</th>\n",
              "      <td>1</td>\n",
              "      <td>0</td>\n",
              "      <td>2</td>\n",
              "      <td>39.0</td>\n",
              "      <td>0</td>\n",
              "      <td>0.0</td>\n",
              "      <td>0.0</td>\n",
              "      <td>0.0</td>\n",
              "      <td>0.0</td>\n",
              "      <td>0.0</td>\n",
              "      <td>0</td>\n",
              "    </tr>\n",
              "    <tr>\n",
              "      <th>1</th>\n",
              "      <td>0</td>\n",
              "      <td>0</td>\n",
              "      <td>2</td>\n",
              "      <td>24.0</td>\n",
              "      <td>0</td>\n",
              "      <td>109.0</td>\n",
              "      <td>9.0</td>\n",
              "      <td>25.0</td>\n",
              "      <td>549.0</td>\n",
              "      <td>44.0</td>\n",
              "      <td>1</td>\n",
              "    </tr>\n",
              "    <tr>\n",
              "      <th>2</th>\n",
              "      <td>1</td>\n",
              "      <td>0</td>\n",
              "      <td>2</td>\n",
              "      <td>58.0</td>\n",
              "      <td>1</td>\n",
              "      <td>43.0</td>\n",
              "      <td>3576.0</td>\n",
              "      <td>0.0</td>\n",
              "      <td>6715.0</td>\n",
              "      <td>49.0</td>\n",
              "      <td>0</td>\n",
              "    </tr>\n",
              "    <tr>\n",
              "      <th>3</th>\n",
              "      <td>1</td>\n",
              "      <td>0</td>\n",
              "      <td>2</td>\n",
              "      <td>33.0</td>\n",
              "      <td>0</td>\n",
              "      <td>0.0</td>\n",
              "      <td>1283.0</td>\n",
              "      <td>371.0</td>\n",
              "      <td>3329.0</td>\n",
              "      <td>193.0</td>\n",
              "      <td>0</td>\n",
              "    </tr>\n",
              "    <tr>\n",
              "      <th>4</th>\n",
              "      <td>0</td>\n",
              "      <td>0</td>\n",
              "      <td>2</td>\n",
              "      <td>16.0</td>\n",
              "      <td>0</td>\n",
              "      <td>303.0</td>\n",
              "      <td>70.0</td>\n",
              "      <td>151.0</td>\n",
              "      <td>565.0</td>\n",
              "      <td>2.0</td>\n",
              "      <td>1</td>\n",
              "    </tr>\n",
              "  </tbody>\n",
              "</table>\n",
              "</div>\n",
              "      <button class=\"colab-df-convert\" onclick=\"convertToInteractive('df-98622bd6-ed42-4f98-b184-6168a96426b2')\"\n",
              "              title=\"Convert this dataframe to an interactive table.\"\n",
              "              style=\"display:none;\">\n",
              "        \n",
              "  <svg xmlns=\"http://www.w3.org/2000/svg\" height=\"24px\"viewBox=\"0 0 24 24\"\n",
              "       width=\"24px\">\n",
              "    <path d=\"M0 0h24v24H0V0z\" fill=\"none\"/>\n",
              "    <path d=\"M18.56 5.44l.94 2.06.94-2.06 2.06-.94-2.06-.94-.94-2.06-.94 2.06-2.06.94zm-11 1L8.5 8.5l.94-2.06 2.06-.94-2.06-.94L8.5 2.5l-.94 2.06-2.06.94zm10 10l.94 2.06.94-2.06 2.06-.94-2.06-.94-.94-2.06-.94 2.06-2.06.94z\"/><path d=\"M17.41 7.96l-1.37-1.37c-.4-.4-.92-.59-1.43-.59-.52 0-1.04.2-1.43.59L10.3 9.45l-7.72 7.72c-.78.78-.78 2.05 0 2.83L4 21.41c.39.39.9.59 1.41.59.51 0 1.02-.2 1.41-.59l7.78-7.78 2.81-2.81c.8-.78.8-2.07 0-2.86zM5.41 20L4 18.59l7.72-7.72 1.47 1.35L5.41 20z\"/>\n",
              "  </svg>\n",
              "      </button>\n",
              "      \n",
              "  <style>\n",
              "    .colab-df-container {\n",
              "      display:flex;\n",
              "      flex-wrap:wrap;\n",
              "      gap: 12px;\n",
              "    }\n",
              "\n",
              "    .colab-df-convert {\n",
              "      background-color: #E8F0FE;\n",
              "      border: none;\n",
              "      border-radius: 50%;\n",
              "      cursor: pointer;\n",
              "      display: none;\n",
              "      fill: #1967D2;\n",
              "      height: 32px;\n",
              "      padding: 0 0 0 0;\n",
              "      width: 32px;\n",
              "    }\n",
              "\n",
              "    .colab-df-convert:hover {\n",
              "      background-color: #E2EBFA;\n",
              "      box-shadow: 0px 1px 2px rgba(60, 64, 67, 0.3), 0px 1px 3px 1px rgba(60, 64, 67, 0.15);\n",
              "      fill: #174EA6;\n",
              "    }\n",
              "\n",
              "    [theme=dark] .colab-df-convert {\n",
              "      background-color: #3B4455;\n",
              "      fill: #D2E3FC;\n",
              "    }\n",
              "\n",
              "    [theme=dark] .colab-df-convert:hover {\n",
              "      background-color: #434B5C;\n",
              "      box-shadow: 0px 1px 3px 1px rgba(0, 0, 0, 0.15);\n",
              "      filter: drop-shadow(0px 1px 2px rgba(0, 0, 0, 0.3));\n",
              "      fill: #FFFFFF;\n",
              "    }\n",
              "  </style>\n",
              "\n",
              "      <script>\n",
              "        const buttonEl =\n",
              "          document.querySelector('#df-98622bd6-ed42-4f98-b184-6168a96426b2 button.colab-df-convert');\n",
              "        buttonEl.style.display =\n",
              "          google.colab.kernel.accessAllowed ? 'block' : 'none';\n",
              "\n",
              "        async function convertToInteractive(key) {\n",
              "          const element = document.querySelector('#df-98622bd6-ed42-4f98-b184-6168a96426b2');\n",
              "          const dataTable =\n",
              "            await google.colab.kernel.invokeFunction('convertToInteractive',\n",
              "                                                     [key], {});\n",
              "          if (!dataTable) return;\n",
              "\n",
              "          const docLinkHtml = 'Like what you see? Visit the ' +\n",
              "            '<a target=\"_blank\" href=https://colab.research.google.com/notebooks/data_table.ipynb>data table notebook</a>'\n",
              "            + ' to learn more about interactive tables.';\n",
              "          element.innerHTML = '';\n",
              "          dataTable['output_type'] = 'display_data';\n",
              "          await google.colab.output.renderOutput(dataTable, element);\n",
              "          const docLink = document.createElement('div');\n",
              "          docLink.innerHTML = docLinkHtml;\n",
              "          element.appendChild(docLink);\n",
              "        }\n",
              "      </script>\n",
              "    </div>\n",
              "  </div>\n",
              "  "
            ]
          },
          "metadata": {},
          "execution_count": 24
        }
      ],
      "source": [
        "titanic = pd.read_csv('../dataset/spaceship-preprocessing.csv')\n",
        "titanic.head()"
      ]
    },
    {
      "cell_type": "markdown",
      "metadata": {
        "id": "0My7eZG-iKdf"
      },
      "source": [
        "### 4-1. Dataset Load"
      ]
    },
    {
      "cell_type": "code",
      "execution_count": 25,
      "metadata": {
        "colab": {
          "base_uri": "https://localhost:8080/"
        },
        "id": "aFZLcNBbiKdg",
        "outputId": "6cae7000-2b3d-4caf-97d9-88ad67c7c069"
      },
      "outputs": [
        {
          "output_type": "execute_result",
          "data": {
            "text/plain": [
              "((5795, 10), (2898, 10))"
            ]
          },
          "metadata": {},
          "execution_count": 25
        }
      ],
      "source": [
        "X = titanic.drop('Transported', axis=1).values.astype(np.float32)\n",
        "y = titanic['Transported'].values\n",
        " \n",
        "X_train, X_test, y_train, y_test = train_test_split(X, y, \n",
        "                                                    test_size=1./3, random_state=1)\n",
        "X_train.shape, X_test.shape"
      ]
    },
    {
      "cell_type": "code",
      "execution_count": 26,
      "metadata": {
        "id": "R_lLZhAsiKdg"
      },
      "outputs": [],
      "source": [
        "from torch.utils.data import TensorDataset\n",
        "from torch.utils.data import DataLoader\n",
        "\n",
        "X_train_norm = (X_train - np.mean(X_train)) / np.std(X_train)\n",
        "X_train_norm = torch.from_numpy(X_train_norm).float()\n",
        "y_train = torch.from_numpy(y_train) \n",
        "\n",
        "train_ds = TensorDataset(X_train_norm, y_train)\n",
        "\n",
        "torch.manual_seed(1)\n",
        "batch_size = 2\n",
        "train_dl = DataLoader(train_ds, batch_size, shuffle=True)"
      ]
    },
    {
      "cell_type": "markdown",
      "metadata": {
        "id": "Lxmm8FNAiKdh"
      },
      "source": [
        "### 4-2. Model Build"
      ]
    },
    {
      "cell_type": "code",
      "execution_count": 27,
      "metadata": {
        "id": "4wg7tYiWiKdi"
      },
      "outputs": [],
      "source": [
        "class Model(nn.Module):\n",
        "    def __init__(self, input_size, hidden_size, output_size):\n",
        "        super(Model, self).__init__()\n",
        "        self.layer1 = nn.Linear(input_size, hidden_size)  \n",
        "        self.layer2 = nn.Linear(hidden_size, output_size)  \n",
        "\n",
        "    def forward(self, x):\n",
        "        x = self.layer1(x)\n",
        "        x = nn.Sigmoid()(x)\n",
        "        x = self.layer2(x)\n",
        "        x = nn.Softmax(dim=1)(x)\n",
        "        return x\n",
        "    \n",
        "input_size = X_train_norm.shape[1]\n",
        "hidden_size = 16\n",
        "output_size = 2\n",
        "         \n",
        "model = Model(input_size, hidden_size, output_size)\n",
        "\n",
        "learning_rate = 0.001\n",
        "\n",
        "loss_fn = nn.CrossEntropyLoss()\n",
        "optimizer = torch.optim.Adam(model.parameters(), lr=learning_rate)"
      ]
    },
    {
      "cell_type": "markdown",
      "metadata": {
        "id": "L2bkbn9ciKdm"
      },
      "source": [
        "### 4-3. Train"
      ]
    },
    {
      "cell_type": "code",
      "execution_count": 28,
      "metadata": {
        "colab": {
          "base_uri": "https://localhost:8080/"
        },
        "id": "6cTZMDLviKdn",
        "outputId": "e63da3b7-e76d-40d8-c50d-dd0cb36eb268"
      },
      "outputs": [
        {
          "output_type": "stream",
          "name": "stdout",
          "text": [
            "Epoch 0 Train: Loss: 0.6245 Acc: 0.7041\n",
            "Epoch 1 Train: Loss: 0.5537 Acc: 0.7736\n",
            "Epoch 2 Train: Loss: 0.5375 Acc: 0.7774\n",
            "Epoch 3 Train: Loss: 0.5322 Acc: 0.7798\n",
            "Epoch 4 Train: Loss: 0.5292 Acc: 0.7831\n",
            "Epoch 5 Train: Loss: 0.5272 Acc: 0.7853\n",
            "Epoch 6 Train: Loss: 0.5255 Acc: 0.7858\n",
            "Epoch 7 Train: Loss: 0.5244 Acc: 0.7884\n",
            "Epoch 8 Train: Loss: 0.5234 Acc: 0.7877\n",
            "Epoch 9 Train: Loss: 0.5226 Acc: 0.7881\n",
            "Epoch 10 Train: Loss: 0.5218 Acc: 0.7876\n",
            "Epoch 11 Train: Loss: 0.5212 Acc: 0.7883\n",
            "Epoch 12 Train: Loss: 0.5201 Acc: 0.7905\n",
            "Epoch 13 Train: Loss: 0.5196 Acc: 0.7910\n",
            "Epoch 14 Train: Loss: 0.5190 Acc: 0.7915\n",
            "Epoch 15 Train: Loss: 0.5183 Acc: 0.7924\n",
            "Epoch 16 Train: Loss: 0.5178 Acc: 0.7921\n",
            "Epoch 17 Train: Loss: 0.5173 Acc: 0.7940\n",
            "Epoch 18 Train: Loss: 0.5168 Acc: 0.7941\n",
            "Epoch 19 Train: Loss: 0.5165 Acc: 0.7936\n"
          ]
        }
      ],
      "source": [
        "num_epochs = 20\n",
        "loss_hist = [0] * num_epochs\n",
        "accuracy_hist = [0] * num_epochs\n",
        "\n",
        "for epoch in range(num_epochs):\n",
        "\n",
        "    for x_batch, y_batch in train_dl:\n",
        "        pred = model(x_batch)\n",
        "        loss = loss_fn(pred, y_batch)\n",
        "        loss.backward()\n",
        "        optimizer.step()\n",
        "        optimizer.zero_grad()\n",
        "    \n",
        "        loss_hist[epoch] += loss.item()*y_batch.size(0)\n",
        "        is_correct = (torch.argmax(pred, dim=1) == y_batch).float()\n",
        "        accuracy_hist[epoch] += is_correct.sum()\n",
        "        \n",
        "    loss_hist[epoch] /= len(train_dl.dataset)\n",
        "    accuracy_hist[epoch] /= len(train_dl.dataset)\n",
        "    \n",
        "    print(\"Epoch %d Train: Loss: %.4f Acc: %.4f\" %\n",
        "          (epoch,\n",
        "           loss_hist[epoch], \n",
        "           accuracy_hist[epoch]))\n",
        "      "
      ]
    },
    {
      "cell_type": "markdown",
      "metadata": {
        "id": "O2EShofViKdp"
      },
      "source": [
        "### 4-4. Loss, Accuracy"
      ]
    },
    {
      "cell_type": "code",
      "execution_count": 29,
      "metadata": {
        "colab": {
          "base_uri": "https://localhost:8080/",
          "height": 507
        },
        "id": "Z7NeMnt8iKdq",
        "outputId": "78eacc8d-ff0e-48e1-99c2-bdcbcecef9fb"
      },
      "outputs": [
        {
          "output_type": "display_data",
          "data": {
            "text/plain": [
              "<Figure size 1200x500 with 2 Axes>"
            ],
            "image/png": "[encoded data removed]"
          },
          "metadata": {}
        }
      ],
      "source": [
        "fig = plt.figure(figsize=(12, 5))\n",
        "ax = fig.add_subplot(1, 2, 1)\n",
        "ax.plot(loss_hist, lw=3)\n",
        "ax.set_title('Training loss', size=15)\n",
        "ax.set_xlabel('Epoch', size=15)\n",
        "ax.tick_params(axis='both', which='major', labelsize=15)\n",
        "\n",
        "ax = fig.add_subplot(1, 2, 2)\n",
        "ax.plot(accuracy_hist, lw=3)\n",
        "ax.set_title('Training accuracy', size=15)\n",
        "ax.set_xlabel('Epoch', size=15)\n",
        "ax.tick_params(axis='both', which='major', labelsize=15)\n",
        "plt.tight_layout()\n",
        " \n",
        "plt.show()"
      ]
    },
    {
      "cell_type": "markdown",
      "metadata": {
        "id": "qP9F5iyXiKdr"
      },
      "source": [
        "### 4-5. Evaluating"
      ]
    },
    {
      "cell_type": "code",
      "execution_count": 30,
      "metadata": {
        "colab": {
          "base_uri": "https://localhost:8080/"
        },
        "id": "6lEpSUOkiKds",
        "outputId": "74d726ac-17e9-4847-f999-51254093cf58"
      },
      "outputs": [
        {
          "output_type": "stream",
          "name": "stdout",
          "text": [
            "Test Acc.: 0.7933\n"
          ]
        }
      ],
      "source": [
        "X_test_norm = (X_test - np.mean(X_train)) / np.std(X_train)\n",
        "X_test_norm = torch.from_numpy(X_test_norm).float()\n",
        "y_test = torch.from_numpy(y_test) \n",
        "pred_test = model(X_test_norm)\n",
        "\n",
        "correct = (torch.argmax(pred_test, dim=1) == y_test).float()\n",
        "accuracy = correct.mean()\n",
        " \n",
        "print(f'Test Acc.: {accuracy:.4f}')"
      ]
    },
    {
      "cell_type": "markdown",
      "metadata": {
        "id": "FHtvznMdiKdt"
      },
      "source": [
        "### 4-6. Save & Load Model\n",
        "- torch.save( )\n",
        "- torch.save(model.state_dict( ))"
      ]
    },
    {
      "cell_type": "code",
      "execution_count": 31,
      "metadata": {
        "id": "47mp9V1KiKdu"
      },
      "outputs": [],
      "source": [
        "path = 'spaceship-tiatnic.pt'\n",
        "torch.save(model, path)"
      ]
    },
    {
      "cell_type": "code",
      "execution_count": 32,
      "metadata": {
        "colab": {
          "base_uri": "https://localhost:8080/"
        },
        "id": "6ckGcZn_iKdv",
        "outputId": "9a1fb1ac-f493-4af7-b9de-0475caa797b9"
      },
      "outputs": [
        {
          "output_type": "execute_result",
          "data": {
            "text/plain": [
              "Model(\n",
              "  (layer1): Linear(in_features=10, out_features=16, bias=True)\n",
              "  (layer2): Linear(in_features=16, out_features=2, bias=True)\n",
              ")"
            ]
          },
          "metadata": {},
          "execution_count": 32
        }
      ],
      "source": [
        "model_new = torch.load(path)\n",
        "model_new.eval()"
      ]
    },
    {
      "cell_type": "code",
      "execution_count": 33,
      "metadata": {
        "colab": {
          "base_uri": "https://localhost:8080/"
        },
        "id": "j_vHR0fMiKdv",
        "outputId": "56a1b7d3-5915-43b4-ea70-68da6ef19899"
      },
      "outputs": [
        {
          "output_type": "stream",
          "name": "stdout",
          "text": [
            "Test Acc.: 0.7933\n"
          ]
        }
      ],
      "source": [
        "pred_test = model_new(X_test_norm)\n",
        "\n",
        "correct = (torch.argmax(pred_test, dim=1) == y_test).float()\n",
        "accuracy = correct.mean()\n",
        " \n",
        "print(f'Test Acc.: {accuracy:.4f}')"
      ]
    },
    {
      "cell_type": "code",
      "execution_count": 34,
      "metadata": {
        "id": "hiC19WR6iKdw"
      },
      "outputs": [],
      "source": [
        "path = 'spaceship-tiatnic_state.pt'\n",
        "torch.save(model.state_dict(), path)"
      ]
    },
    {
      "cell_type": "code",
      "execution_count": 35,
      "metadata": {
        "colab": {
          "base_uri": "https://localhost:8080/"
        },
        "id": "XjSQbp7NiKdy",
        "outputId": "cfcf51cf-d3b6-4843-f0bb-e426dbdb3483"
      },
      "outputs": [
        {
          "output_type": "execute_result",
          "data": {
            "text/plain": [
              "<All keys matched successfully>"
            ]
          },
          "metadata": {},
          "execution_count": 35
        }
      ],
      "source": [
        "model_new = Model(input_size, hidden_size, output_size)\n",
        "model_new.load_state_dict(torch.load(path))"
      ]
    }
  ],
  "metadata": {
    "kernelspec": {
      "display_name": "Python 3 (ipykernel)",
      "language": "python",
      "name": "python3"
    },
    "language_info": {
      "codemirror_mode": {
        "name": "ipython",
        "version": 3
      },
      "file_extension": ".py",
      "mimetype": "text/x-python",
      "name": "python",
      "nbconvert_exporter": "python",
      "pygments_lexer": "ipython3",
      "version": "3.9.13"
    },
    "toc-showmarkdowntxt": false,
    "toc-showtags": false,
    "colab": {
      "provenance": [],
      "include_colab_link": true
    }
  },
  "nbformat": 4,
  "nbformat_minor": 0
}