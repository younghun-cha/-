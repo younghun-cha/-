{
  "cells": [
    {
      "cell_type": "markdown",
      "metadata": {
        "id": "aXkszegKMMMn"
      },
      "source": [
        "# 데이터 구조의 이해 (4) - Tensor\n",
        "- pytorch installation: https://pytorch.org/get-started/locally/\n",
        "1. cpu installation: `pip install torch torchvision torchaudio`\n",
        "1. gpu instalation: `pip install` 또는 `conda install`로 OS, CUDA 버전에 맞게 설치"
      ]
    },
    {
      "cell_type": "code",
      "execution_count": 19,
      "metadata": {
        "id": "JEzk3V0owy3S",
        "outputId": "1003591e-66c7-4916-eb17-7f8545c83cd5",
        "colab": {
          "base_uri": "https://localhost:8080/",
          "height": 35
        }
      },
      "outputs": [
        {
          "output_type": "execute_result",
          "data": {
            "text/plain": [
              "'2.0.0+cu118'"
            ],
            "application/vnd.google.colaboratory.intrinsic+json": {
              "type": "string"
            }
          },
          "metadata": {},
          "execution_count": 19
        }
      ],
      "source": [
        "import torch\n",
        "torch.__version__"
      ]
    },
    {
      "cell_type": "markdown",
      "metadata": {
        "id": "QbzMwCbOLF4T"
      },
      "source": [
        "## 1. Simple CPU Example"
      ]
    },
    {
      "cell_type": "code",
      "execution_count": 20,
      "metadata": {
        "colab": {
          "base_uri": "https://localhost:8080/"
        },
        "id": "HWv6NA5YKpLU",
        "outputId": "708a8584-5630-4c4d-f7a3-3745d7d5a014"
      },
      "outputs": [
        {
          "output_type": "stream",
          "name": "stdout",
          "text": [
            "tensor([[ 8, 10, 12],\n",
            "        [14, 16, 18]])\n",
            "torch.Size([2, 3])\n"
          ]
        }
      ],
      "source": [
        "x = torch.tensor([[1,2,3],[4,5,6]])\n",
        "y = torch.tensor([[7,8,9],[10,11,12]])\n",
        "z = x + y\n",
        "\n",
        "print(z) \n",
        "print(z.size()) "
      ]
    },
    {
      "cell_type": "markdown",
      "metadata": {
        "id": "7cvJwOfpRjyp"
      },
      "source": [
        "## 2. Simple GPU Example"
      ]
    },
    {
      "cell_type": "code",
      "execution_count": 21,
      "metadata": {
        "colab": {
          "base_uri": "https://localhost:8080/"
        },
        "id": "lB62TcNkQpjn",
        "outputId": "62c5c522-2948-4726-ee3a-d47a547366f4"
      },
      "outputs": [
        {
          "output_type": "stream",
          "name": "stdout",
          "text": [
            "torch.Size([2, 3])\n",
            "cuda:0\n"
          ]
        }
      ],
      "source": [
        "device = \"cuda\" if torch.cuda.is_available() else \"cpu\"\n",
        "\n",
        "x = torch.tensor([[1,2,3],\n",
        "                  [4,5,6]], device=device)\n",
        "y = torch.tensor([[7,8,9],\n",
        "                  [10,11,12]], device=device)\n",
        "z = x + y\n",
        "\n",
        "print(z.size())\n",
        "print(z.device)"
      ]
    },
    {
      "cell_type": "markdown",
      "metadata": {
        "id": "siupc0FJR0ma"
      },
      "source": [
        "## 3. Moving Tensors CPU & GPU"
      ]
    },
    {
      "cell_type": "code",
      "execution_count": 22,
      "metadata": {
        "colab": {
          "base_uri": "https://localhost:8080/"
        },
        "id": "U5yCYvynR1md",
        "outputId": "bab6ba2b-9e81-4828-cf6b-5e772f78c1ee"
      },
      "outputs": [
        {
          "output_type": "execute_result",
          "data": {
            "text/plain": [
              "tensor([[ 8, 10, 12],\n",
              "        [14, 16, 18]])"
            ]
          },
          "metadata": {},
          "execution_count": 22
        }
      ],
      "source": [
        "device = \"cuda\" if torch.cuda.is_available() else \"cpu\"\n",
        "\n",
        "x.to(device)\n",
        "y.to(device)\n",
        "\n",
        "z = x + y\n",
        "z.to(\"cpu\")"
      ]
    },
    {
      "cell_type": "markdown",
      "metadata": {
        "id": "XIAXms9fS1LA"
      },
      "source": [
        "## 4. Tensors 생성"
      ]
    },
    {
      "cell_type": "code",
      "execution_count": 23,
      "metadata": {
        "id": "vHDeTeERR525",
        "outputId": "b233120b-5808-45d6-e286-b8649d4065c6",
        "colab": {
          "base_uri": "https://localhost:8080/"
        }
      },
      "outputs": [
        {
          "output_type": "stream",
          "name": "stdout",
          "text": [
            "tensor([1, 2, 3]) tensor([1, 2, 3]) tensor([1, 2, 3])\n"
          ]
        }
      ],
      "source": [
        "import numpy \n",
        "\n",
        "w1 = torch.tensor([1,2,3])\n",
        "w2 = torch.tensor((1,2,3)) \n",
        "w3 = torch.tensor(numpy.array([1,2,3])) \n",
        "\n",
        "print(w1, w2, w3)"
      ]
    },
    {
      "cell_type": "code",
      "execution_count": 24,
      "metadata": {
        "id": "6LkBidY3wy3e",
        "outputId": "8a0e413f-6058-4f50-dd03-54274f2cb645",
        "colab": {
          "base_uri": "https://localhost:8080/"
        }
      },
      "outputs": [
        {
          "output_type": "stream",
          "name": "stdout",
          "text": [
            "tensor([[ 2.9028e+03,  0.0000e+00,  0.0000e+00],\n",
            "        [ 0.0000e+00,  1.4013e-45,  0.0000e+00],\n",
            "        [ 1.5262e+03,  0.0000e+00, -2.0740e+00]]) tensor([[0., 0., 0., 0.],\n",
            "        [0., 0., 0., 0.],\n",
            "        [0., 0., 0., 0.],\n",
            "        [0., 0., 0., 0.]]) tensor([[1., 1., 1., 1., 1.],\n",
            "        [1., 1., 1., 1., 1.],\n",
            "        [1., 1., 1., 1., 1.],\n",
            "        [1., 1., 1., 1., 1.],\n",
            "        [1., 1., 1., 1., 1.]])\n",
            "torch.Size([3, 3]) torch.Size([4, 4]) torch.Size([5, 5])\n"
          ]
        }
      ],
      "source": [
        "w4 = torch.empty(3,3) \n",
        "w5 = torch.zeros(4,4) \n",
        "w6 = torch.ones(5,5) \n",
        "\n",
        "print(w4, w5, w6)\n",
        "print(w4.shape, w5.shape, w6.shape) "
      ]
    },
    {
      "cell_type": "code",
      "execution_count": 25,
      "metadata": {
        "id": "L4VLExcC0EFk",
        "outputId": "5425dbbc-ca1e-4c04-f945-bd79ed9ef7b5",
        "colab": {
          "base_uri": "https://localhost:8080/"
        }
      },
      "outputs": [
        {
          "output_type": "stream",
          "name": "stdout",
          "text": [
            "tensor([[0.7873, 0.9457, 0.2063, 0.2189],\n",
            "        [0.0711, 0.7495, 0.6047, 0.8292],\n",
            "        [0.8950, 0.8827, 0.7672, 0.5837],\n",
            "        [0.0572, 0.7463, 0.2659, 0.2631]]) tensor([[-7.4460e-01, -1.0821e-03,  5.9290e-01, -1.2447e+00],\n",
            "        [ 4.0354e-01, -3.8229e-01, -6.3586e-01,  1.1782e-01],\n",
            "        [-1.0029e+00,  2.7857e-01,  9.4938e-01, -2.9474e-01],\n",
            "        [-1.3951e-01,  2.4834e+00, -2.2960e-01, -3.7797e-01]]) tensor([[7, 7, 7, 8],\n",
            "        [4, 9, 9, 4],\n",
            "        [6, 8, 4, 7],\n",
            "        [7, 8, 9, 6]])\n"
          ]
        }
      ],
      "source": [
        "w7 = torch.rand(4,4)   \n",
        "w8 = torch.randn(4,4)   \n",
        "w9 = torch.randint(4, 10, (4,4)) \n",
        "print(w7, w8, w9)"
      ]
    },
    {
      "cell_type": "code",
      "execution_count": 26,
      "metadata": {
        "id": "lUKEB3PRwy3g",
        "outputId": "90574d66-1f6d-476e-c732-0b9ef74261ab",
        "colab": {
          "base_uri": "https://localhost:8080/"
        }
      },
      "outputs": [
        {
          "output_type": "execute_result",
          "data": {
            "text/plain": [
              "tensor([[0., 0., 0., 0.],\n",
              "        [0., 0., 0., 0.],\n",
              "        [0., 0., 0., 0.]], device='cuda:0', dtype=torch.float64)"
            ]
          },
          "metadata": {},
          "execution_count": 26
        }
      ],
      "source": [
        "w10 = torch.empty((3,4), dtype=torch.float64, \n",
        "                device=\"cuda\")\n",
        "\n",
        "x = torch.empty_like(w10)\n",
        "x"
      ]
    },
    {
      "cell_type": "markdown",
      "metadata": {
        "id": "uvwi0dyuTZFA"
      },
      "source": [
        "## 6. Torch Tensors 데이터 타입"
      ]
    },
    {
      "cell_type": "code",
      "execution_count": 27,
      "metadata": {
        "colab": {
          "base_uri": "https://localhost:8080/"
        },
        "id": "Zy_IzoICSt_E",
        "outputId": "93dc8d03-3342-46b9-eea1-ddb6e479447e"
      },
      "outputs": [
        {
          "output_type": "stream",
          "name": "stdout",
          "text": [
            "tensor([1., 2., 3.]) tensor([1, 2, 3], dtype=torch.int32)\n"
          ]
        }
      ],
      "source": [
        "w11 = torch.tensor([1,2,3], \n",
        "                   dtype=torch.float32)\n",
        "\n",
        "w12 = w11.int()   # w changes to int32 after cast\n",
        "\n",
        "print(w11, w12)"
      ]
    },
    {
      "cell_type": "code",
      "execution_count": 28,
      "metadata": {
        "colab": {
          "base_uri": "https://localhost:8080/"
        },
        "outputId": "c9f6aa05-45fd-4140-a764-15e9e3da7751",
        "id": "eT5n6hmDwy3i"
      },
      "outputs": [
        {
          "output_type": "stream",
          "name": "stdout",
          "text": [
            "tensor([1., 2., 3.], dtype=torch.float64) tensor([1., 2., 3.], dtype=torch.float64)\n"
          ]
        }
      ],
      "source": [
        "w13 = w11.to(torch.float64) \n",
        "w14 = w11.to(dtype=torch.float64) \n",
        "\n",
        "print(w13, w14)"
      ]
    },
    {
      "cell_type": "code",
      "execution_count": 29,
      "metadata": {
        "colab": {
          "base_uri": "https://localhost:8080/"
        },
        "outputId": "786d2d63-c803-43f0-8b14-67b1f1d4184e",
        "id": "096e05Cbwy3i"
      },
      "outputs": [
        {
          "output_type": "stream",
          "name": "stdout",
          "text": [
            "tensor([2., 4., 6.])\n",
            "torch.float32\n"
          ]
        }
      ],
      "source": [
        "x = torch.tensor([1,2,3], \n",
        "                 dtype=torch.int32)\n",
        "y = torch.tensor([1,2,3], \n",
        "                 dtype=torch.float32)\n",
        "\n",
        "z = x + y\n",
        "print(z)\n",
        "print(z.dtype)"
      ]
    },
    {
      "cell_type": "markdown",
      "metadata": {
        "id": "BLvRdCYET-cG"
      },
      "source": [
        "## 7. Tensor 인덱싱, 슬라이싱"
      ]
    },
    {
      "cell_type": "code",
      "execution_count": 30,
      "metadata": {
        "colab": {
          "base_uri": "https://localhost:8080/"
        },
        "id": "YnLlmRdwTesO",
        "outputId": "216d82e1-c8a8-4d08-bab3-2d17056de5d9"
      },
      "outputs": [
        {
          "output_type": "stream",
          "name": "stdout",
          "text": [
            "tensor(4)\n",
            "4\n"
          ]
        }
      ],
      "source": [
        "x = torch.tensor([[1,2],\n",
        "                  [3,4],\n",
        "                  [5,6],\n",
        "                  [7,8]])\n",
        "\n",
        "print(x[1,1])\n",
        "\n",
        "print(x[1,1].item())"
      ]
    },
    {
      "cell_type": "code",
      "execution_count": 31,
      "metadata": {
        "colab": {
          "base_uri": "https://localhost:8080/"
        },
        "id": "BouHJUe84a-g",
        "outputId": "bc26d38a-05f1-403a-b817-16ea4cbd6957"
      },
      "outputs": [
        {
          "output_type": "execute_result",
          "data": {
            "text/plain": [
              "tensor([1, 2, 3, 4])"
            ]
          },
          "metadata": {},
          "execution_count": 31
        }
      ],
      "source": [
        "# Slicing\n",
        "x[:2, 1]\n",
        "x[x < 5]"
      ]
    },
    {
      "cell_type": "code",
      "execution_count": 32,
      "metadata": {
        "colab": {
          "base_uri": "https://localhost:8080/"
        },
        "id": "4a2FDWWD4myP",
        "outputId": "4f514ac5-0f4b-4f7b-d4da-d8ba638689e4"
      },
      "outputs": [
        {
          "output_type": "stream",
          "name": "stdout",
          "text": [
            "tensor([[1, 3, 5, 7],\n",
            "        [2, 4, 6, 8]])\n"
          ]
        },
        {
          "output_type": "execute_result",
          "data": {
            "text/plain": [
              "tensor([[1, 2, 3, 4],\n",
              "        [5, 6, 7, 8]])"
            ]
          },
          "metadata": {},
          "execution_count": 32
        }
      ],
      "source": [
        "# 전치 transpose\n",
        "print(x.t())\n",
        "\n",
        "# view() 함수 = numpy의 reshape()와 동일\n",
        "x.view((2,4))"
      ]
    },
    {
      "cell_type": "code",
      "execution_count": 33,
      "metadata": {
        "colab": {
          "base_uri": "https://localhost:8080/"
        },
        "id": "jqXM3ECQ53_h",
        "outputId": "600f7aea-87ca-4260-9fb4-f278410e0608"
      },
      "outputs": [
        {
          "output_type": "stream",
          "name": "stdout",
          "text": [
            "tensor([[[1, 2],\n",
            "         [3, 4],\n",
            "         [5, 6],\n",
            "         [7, 8]],\n",
            "\n",
            "        [[1, 2],\n",
            "         [3, 4],\n",
            "         [5, 6],\n",
            "         [7, 8]]])\n",
            "tensor([1, 3, 5, 7]) tensor([2, 4, 6, 8])\n"
          ]
        }
      ],
      "source": [
        "# stack 함수로 합치기\n",
        "y = torch.stack((x, x))\n",
        "print(y)\n",
        "\n",
        "# unbind로 분리하기\n",
        "a,b = x.unbind(dim=1)\n",
        "print(a,b)"
      ]
    },
    {
      "cell_type": "markdown",
      "metadata": {
        "id": "E6vwyrpvUPLE"
      },
      "source": [
        "## 8. Automatic Differentiation (Autograd)"
      ]
    },
    {
      "cell_type": "code",
      "execution_count": 34,
      "metadata": {
        "colab": {
          "base_uri": "https://localhost:8080/"
        },
        "id": "IBHw-IziUKAa",
        "outputId": "3f016ff7-d7f5-4514-b0a6-a5a27bc7a527"
      },
      "outputs": [
        {
          "output_type": "execute_result",
          "data": {
            "text/plain": [
              "tensor([[1., 2., 3.],\n",
              "        [4., 5., 6.]], requires_grad=True)"
            ]
          },
          "metadata": {},
          "execution_count": 34
        }
      ],
      "source": [
        "x = torch.tensor([[1,2,3],\n",
        "                  [4,5,6]], \n",
        "                  dtype=torch.float, \n",
        "                  requires_grad=True)\n",
        "x"
      ]
    },
    {
      "cell_type": "code",
      "execution_count": 35,
      "metadata": {
        "colab": {
          "base_uri": "https://localhost:8080/"
        },
        "outputId": "f6201943-b9f3-46fa-b740-7a6758540122",
        "id": "ujsLlq6bwy3o"
      },
      "outputs": [
        {
          "output_type": "execute_result",
          "data": {
            "text/plain": [
              "tensor(91., grad_fn=<SumBackward0>)"
            ]
          },
          "metadata": {},
          "execution_count": 35
        }
      ],
      "source": [
        "f = x.pow(2).sum()\n",
        "f"
      ]
    },
    {
      "cell_type": "code",
      "execution_count": 36,
      "metadata": {
        "colab": {
          "base_uri": "https://localhost:8080/"
        },
        "outputId": "72e2aa45-be0b-4cf5-aca0-d3387662c4a6",
        "id": "-JgJSNrZwy3o"
      },
      "outputs": [
        {
          "output_type": "execute_result",
          "data": {
            "text/plain": [
              "tensor([[ 2.,  4.,  6.],\n",
              "        [ 8., 10., 12.]])"
            ]
          },
          "metadata": {},
          "execution_count": 36
        }
      ],
      "source": [
        "f.backward()\n",
        "x.grad # df/dx = 2x "
      ]
    }
  ],
  "metadata": {
    "accelerator": "GPU",
    "colab": {
      "name": "02_Tensors.ipynb",
      "provenance": []
    },
    "kernelspec": {
      "display_name": "pytorch",
      "language": "python",
      "name": "pytorch"
    },
    "language_info": {
      "codemirror_mode": {
        "name": "ipython",
        "version": 3
      },
      "file_extension": ".py",
      "mimetype": "text/x-python",
      "name": "python",
      "nbconvert_exporter": "python",
      "pygments_lexer": "ipython3",
      "version": "3.8.12"
    }
  },
  "nbformat": 4,
  "nbformat_minor": 0
}