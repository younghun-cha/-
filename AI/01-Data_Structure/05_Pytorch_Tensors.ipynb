{
 "cells": [
  {
   "cell_type": "markdown",
   "metadata": {
    "id": "aXkszegKMMMn"
   },
   "source": [
    "# 데이터 구조의 이해 (4) - Tensor\n",
    "- pytorch installation: https://pytorch.org/get-started/locally/\n",
    "1. cpu installation: `pip install torch torchvision torchaudio`\n",
    "1. gpu instalation: `pip install` 또는 `conda install`로 OS, CUDA 버전에 맞게 설치"
   ]
  },
  {
   "cell_type": "code",
   "execution_count": null,
   "metadata": {},
   "outputs": [],
   "source": [
    "import torch\n",
    "torch.__version__"
   ]
  },
  {
   "cell_type": "markdown",
   "metadata": {
    "id": "QbzMwCbOLF4T"
   },
   "source": [
    "## 1. Simple CPU Example"
   ]
  },
  {
   "cell_type": "code",
   "execution_count": null,
   "metadata": {
    "colab": {
     "base_uri": "https://localhost:8080/"
    },
    "executionInfo": {
     "elapsed": 358,
     "status": "ok",
     "timestamp": 1612991134258,
     "user": {
      "displayName": "Joe Papa",
      "photoUrl": "",
      "userId": "00487850786587503652"
     },
     "user_tz": 300
    },
    "id": "HWv6NA5YKpLU",
    "outputId": "6f60ffef-148b-4ee5-e499-4b54fb8ee652"
   },
   "outputs": [],
   "source": [
    "x = torch.tensor([[1,2,3],[4,5,6]])\n",
    "y = torch.tensor([[7,8,9],[10,11,12]])\n",
    "z = x + y\n",
    "\n",
    "print(z) \n",
    "print(z.size()) "
   ]
  },
  {
   "cell_type": "markdown",
   "metadata": {
    "id": "7cvJwOfpRjyp"
   },
   "source": [
    "## 2. Simple GPU Example"
   ]
  },
  {
   "cell_type": "code",
   "execution_count": null,
   "metadata": {
    "colab": {
     "base_uri": "https://localhost:8080/"
    },
    "executionInfo": {
     "elapsed": 248,
     "status": "ok",
     "timestamp": 1612991309666,
     "user": {
      "displayName": "Joe Papa",
      "photoUrl": "",
      "userId": "00487850786587503652"
     },
     "user_tz": 300
    },
    "id": "lB62TcNkQpjn",
    "outputId": "d913f0b3-7f2d-428a-8bee-f88582e5dc7d"
   },
   "outputs": [],
   "source": [
    "device = \"cuda\" if torch.cuda.is_available() else \"cpu\"\n",
    "\n",
    "x = torch.tensor([[1,2,3],\n",
    "                  [4,5,6]], device=device)\n",
    "y = torch.tensor([[7,8,9],\n",
    "                  [10,11,12]], device=device)\n",
    "z = x + y\n",
    "\n",
    "print(z.size())\n",
    "print(z.device)"
   ]
  },
  {
   "cell_type": "markdown",
   "metadata": {
    "id": "siupc0FJR0ma"
   },
   "source": [
    "## 3. Moving Tensors CPU & GPU"
   ]
  },
  {
   "cell_type": "code",
   "execution_count": null,
   "metadata": {
    "colab": {
     "base_uri": "https://localhost:8080/"
    },
    "executionInfo": {
     "elapsed": 248,
     "status": "ok",
     "timestamp": 1612991465747,
     "user": {
      "displayName": "Joe Papa",
      "photoUrl": "",
      "userId": "00487850786587503652"
     },
     "user_tz": 300
    },
    "id": "U5yCYvynR1md",
    "outputId": "b10eefc8-cc7e-4297-aabf-7902b3bef246"
   },
   "outputs": [],
   "source": [
    "device = \"cuda\" if torch.cuda.is_available() else \"cpu\"\n",
    "\n",
    "x.to(device)\n",
    "y.to(device)\n",
    "\n",
    "z = x + y\n",
    "z.to(\"cpu\")"
   ]
  },
  {
   "cell_type": "markdown",
   "metadata": {
    "id": "XIAXms9fS1LA"
   },
   "source": [
    "## 4. Tensors 생성"
   ]
  },
  {
   "cell_type": "code",
   "execution_count": null,
   "metadata": {
    "id": "vHDeTeERR525"
   },
   "outputs": [],
   "source": [
    "import numpy \n",
    "\n",
    "w1 = torch.tensor([1,2,3])\n",
    "w2 = torch.tensor((1,2,3)) \n",
    "w3 = torch.tensor(numpy.array([1,2,3])) \n",
    "\n",
    "print(w1, w2, w3)"
   ]
  },
  {
   "cell_type": "code",
   "execution_count": null,
   "metadata": {
    "id": "vHDeTeERR525"
   },
   "outputs": [],
   "source": [
    "w4 = torch.empty(3,3) \n",
    "w5 = torch.zeros(4,4) \n",
    "w6 = torch.ones(5,5) \n",
    "\n",
    "print(w4, w5, w6)\n",
    "print(w4.shape, w5.shape, w6.shape) "
   ]
  },
  {
   "cell_type": "code",
   "execution_count": null,
   "metadata": {
    "id": "L4VLExcC0EFk"
   },
   "outputs": [],
   "source": [
    "w7 = torch.rand(4,4)   \n",
    "w8 = torch.randn(4,4)   \n",
    "w9 = torch.randint(4, 10, (4,4)) \n",
    "print(w7, w8, w9)"
   ]
  },
  {
   "cell_type": "code",
   "execution_count": null,
   "metadata": {
    "id": "L4VLExcC0EFk"
   },
   "outputs": [],
   "source": [
    "w10 = torch.empty((3,4), dtype=torch.float64, \n",
    "                device=\"cuda\")\n",
    "\n",
    "x = torch.empty_like(w10)\n",
    "x"
   ]
  },
  {
   "cell_type": "markdown",
   "metadata": {
    "id": "uvwi0dyuTZFA"
   },
   "source": [
    "## 6. Torch Tensors 데이터 타입"
   ]
  },
  {
   "cell_type": "code",
   "execution_count": null,
   "metadata": {
    "colab": {
     "base_uri": "https://localhost:8080/"
    },
    "executionInfo": {
     "elapsed": 350,
     "status": "ok",
     "timestamp": 1612988520904,
     "user": {
      "displayName": "Joe Papa",
      "photoUrl": "",
      "userId": "00487850786587503652"
     },
     "user_tz": 300
    },
    "id": "Zy_IzoICSt_E",
    "outputId": "b0019ac2-4072-4f42-a92c-965c40d6e838"
   },
   "outputs": [],
   "source": [
    "w11 = torch.tensor([1,2,3], \n",
    "                   dtype=torch.float32)\n",
    "\n",
    "w12 = w11.int()   # w changes to int32 after cast\n",
    "\n",
    "print(w11, w12)"
   ]
  },
  {
   "cell_type": "code",
   "execution_count": null,
   "metadata": {
    "colab": {
     "base_uri": "https://localhost:8080/"
    },
    "executionInfo": {
     "elapsed": 350,
     "status": "ok",
     "timestamp": 1612988520904,
     "user": {
      "displayName": "Joe Papa",
      "photoUrl": "",
      "userId": "00487850786587503652"
     },
     "user_tz": 300
    },
    "id": "Zy_IzoICSt_E",
    "outputId": "b0019ac2-4072-4f42-a92c-965c40d6e838"
   },
   "outputs": [],
   "source": [
    "w13 = w11.to(torch.float64) \n",
    "w14 = w11.to(dtype=torch.float64) \n",
    "\n",
    "print(w13, w14)"
   ]
  },
  {
   "cell_type": "code",
   "execution_count": null,
   "metadata": {
    "colab": {
     "base_uri": "https://localhost:8080/"
    },
    "executionInfo": {
     "elapsed": 350,
     "status": "ok",
     "timestamp": 1612988520904,
     "user": {
      "displayName": "Joe Papa",
      "photoUrl": "",
      "userId": "00487850786587503652"
     },
     "user_tz": 300
    },
    "id": "Zy_IzoICSt_E",
    "outputId": "b0019ac2-4072-4f42-a92c-965c40d6e838"
   },
   "outputs": [],
   "source": [
    "x = torch.tensor([1,2,3], \n",
    "                 dtype=torch.int32)\n",
    "y = torch.tensor([1,2,3], \n",
    "                 dtype=torch.float32)\n",
    "\n",
    "z = x + y\n",
    "print(z)\n",
    "print(z.dtype)"
   ]
  },
  {
   "cell_type": "markdown",
   "metadata": {
    "id": "BLvRdCYET-cG"
   },
   "source": [
    "## 7. Tensor 인덱싱, 슬라이싱"
   ]
  },
  {
   "cell_type": "code",
   "execution_count": null,
   "metadata": {
    "colab": {
     "base_uri": "https://localhost:8080/"
    },
    "executionInfo": {
     "elapsed": 281,
     "status": "ok",
     "timestamp": 1612993669230,
     "user": {
      "displayName": "Joe Papa",
      "photoUrl": "",
      "userId": "00487850786587503652"
     },
     "user_tz": 300
    },
    "id": "YnLlmRdwTesO",
    "outputId": "adba42a9-f5da-454b-dc39-493d1518008b"
   },
   "outputs": [],
   "source": [
    "x = torch.tensor([[1,2],\n",
    "                  [3,4],\n",
    "                  [5,6],\n",
    "                  [7,8]])\n",
    "\n",
    "print(x[1,1])\n",
    "\n",
    "print(x[1,1].item())"
   ]
  },
  {
   "cell_type": "code",
   "execution_count": null,
   "metadata": {
    "colab": {
     "base_uri": "https://localhost:8080/"
    },
    "executionInfo": {
     "elapsed": 237,
     "status": "ok",
     "timestamp": 1612993669909,
     "user": {
      "displayName": "Joe Papa",
      "photoUrl": "",
      "userId": "00487850786587503652"
     },
     "user_tz": 300
    },
    "id": "BouHJUe84a-g",
    "outputId": "085155a5-a11d-4478-fbdb-474fabf0243f"
   },
   "outputs": [],
   "source": [
    "# Slicing\n",
    "x[:2, 1]\n",
    "x[x < 5]"
   ]
  },
  {
   "cell_type": "code",
   "execution_count": null,
   "metadata": {
    "colab": {
     "base_uri": "https://localhost:8080/"
    },
    "executionInfo": {
     "elapsed": 245,
     "status": "ok",
     "timestamp": 1612993670711,
     "user": {
      "displayName": "Joe Papa",
      "photoUrl": "",
      "userId": "00487850786587503652"
     },
     "user_tz": 300
    },
    "id": "4a2FDWWD4myP",
    "outputId": "898253dc-f7a0-4ed0-9278-c5c5dcf08bed"
   },
   "outputs": [],
   "source": [
    "# 전치 transpose\n",
    "print(x.t())\n",
    "\n",
    "# view() 함수 = numpy의 reshape()와 동일\n",
    "x.view((2,4))"
   ]
  },
  {
   "cell_type": "code",
   "execution_count": null,
   "metadata": {
    "colab": {
     "base_uri": "https://localhost:8080/"
    },
    "executionInfo": {
     "elapsed": 243,
     "status": "ok",
     "timestamp": 1612993671431,
     "user": {
      "displayName": "Joe Papa",
      "photoUrl": "",
      "userId": "00487850786587503652"
     },
     "user_tz": 300
    },
    "id": "jqXM3ECQ53_h",
    "outputId": "5c2af4fe-f1ca-4f29-e9e8-2d56d9eaf0c6"
   },
   "outputs": [],
   "source": [
    "# stack 함수로 합치기\n",
    "y = torch.stack((x, x))\n",
    "print(y)\n",
    "\n",
    "# unbind로 분리하기\n",
    "a,b = x.unbind(dim=1)\n",
    "print(a,b)"
   ]
  },
  {
   "cell_type": "markdown",
   "metadata": {
    "id": "E6vwyrpvUPLE"
   },
   "source": [
    "## 8. Automatic Differentiation (Autograd)"
   ]
  },
  {
   "cell_type": "code",
   "execution_count": null,
   "metadata": {
    "colab": {
     "base_uri": "https://localhost:8080/"
    },
    "executionInfo": {
     "elapsed": 292,
     "status": "ok",
     "timestamp": 1612995280088,
     "user": {
      "displayName": "Joe Papa",
      "photoUrl": "",
      "userId": "00487850786587503652"
     },
     "user_tz": 300
    },
    "id": "IBHw-IziUKAa",
    "outputId": "217508e9-3cdb-4ebd-feac-80089f4b760b"
   },
   "outputs": [],
   "source": [
    "x = torch.tensor([[1,2,3],\n",
    "                  [4,5,6]], \n",
    "                  dtype=torch.float, \n",
    "                  requires_grad=True)\n",
    "x"
   ]
  },
  {
   "cell_type": "code",
   "execution_count": null,
   "metadata": {
    "colab": {
     "base_uri": "https://localhost:8080/"
    },
    "executionInfo": {
     "elapsed": 292,
     "status": "ok",
     "timestamp": 1612995280088,
     "user": {
      "displayName": "Joe Papa",
      "photoUrl": "",
      "userId": "00487850786587503652"
     },
     "user_tz": 300
    },
    "id": "IBHw-IziUKAa",
    "outputId": "217508e9-3cdb-4ebd-feac-80089f4b760b"
   },
   "outputs": [],
   "source": [
    "f = x.pow(2).sum()\n",
    "f"
   ]
  },
  {
   "cell_type": "code",
   "execution_count": null,
   "metadata": {
    "colab": {
     "base_uri": "https://localhost:8080/"
    },
    "executionInfo": {
     "elapsed": 292,
     "status": "ok",
     "timestamp": 1612995280088,
     "user": {
      "displayName": "Joe Papa",
      "photoUrl": "",
      "userId": "00487850786587503652"
     },
     "user_tz": 300
    },
    "id": "IBHw-IziUKAa",
    "outputId": "217508e9-3cdb-4ebd-feac-80089f4b760b"
   },
   "outputs": [],
   "source": [
    "f.backward()\n",
    "x.grad # df/dx = 2x "
   ]
  }
 ],
 "metadata": {
  "accelerator": "GPU",
  "colab": {
   "authorship_tag": "ABX9TyMmZrwpk+TR0fSUOT0KmY+T",
   "collapsed_sections": [],
   "name": "02_Tensors.ipynb",
   "provenance": []
  },
  "kernelspec": {
   "display_name": "pytorch",
   "language": "python",
   "name": "pytorch"
  },
  "language_info": {
   "codemirror_mode": {
    "name": "ipython",
    "version": 3
   },
   "file_extension": ".py",
   "mimetype": "text/x-python",
   "name": "python",
   "nbconvert_exporter": "python",
   "pygments_lexer": "ipython3",
   "version": "3.8.12"
  }
 },
 "nbformat": 4,
 "nbformat_minor": 4
}
