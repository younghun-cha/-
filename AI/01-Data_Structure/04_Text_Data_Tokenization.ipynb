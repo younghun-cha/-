{
 "cells": [
  {
   "cell_type": "markdown",
   "metadata": {},
   "source": [
    "# 데이터 구조의 이해 (4) - 텍스트\n",
    "#### 작성자 - 고우주 | kubwa 쿱와"
   ]
  },
  {
   "cell_type": "code",
   "execution_count": null,
   "metadata": {
    "colab": {},
    "colab_type": "code",
    "id": "1IHLz_2LMdHp"
   },
   "outputs": [],
   "source": [
    "s1 = '나는 책상 위에 사과를 먹었다'       \n",
    "s2 = '알고 보니 그 사과는 Jason 것이었다' \n",
    "s3 = '그래서 Jason에게 사과를 했다'\n",
    "s4 = '나는 책상 위에 배를 먹었다'"
   ]
  },
  {
   "cell_type": "markdown",
   "metadata": {
    "colab_type": "text",
    "id": "QIGm00ibjbfR"
   },
   "source": [
    "## 1. Word Tokenization"
   ]
  },
  {
   "cell_type": "code",
   "execution_count": null,
   "metadata": {
    "colab": {
     "base_uri": "https://localhost:8080/",
     "height": 68
    },
    "colab_type": "code",
    "executionInfo": {
     "elapsed": 1477,
     "status": "ok",
     "timestamp": 1590126028660,
     "user": {
      "displayName": "seongsu bang",
      "photoUrl": "",
      "userId": "06124410414614761416"
     },
     "user_tz": -540
    },
    "id": "X8wq9QfVMd-i",
    "outputId": "def00d60-3a8f-465b-84ec-0086d60d495e"
   },
   "outputs": [],
   "source": [
    "print(s1.split())\n",
    "print(s2.split())\n",
    "print(s3.split()) "
   ]
  },
  {
   "cell_type": "code",
   "execution_count": null,
   "metadata": {
    "colab": {
     "base_uri": "https://localhost:8080/",
     "height": 34
    },
    "colab_type": "code",
    "executionInfo": {
     "elapsed": 1098,
     "status": "ok",
     "timestamp": 1589113572923,
     "user": {
      "displayName": "seongsu bang",
      "photoUrl": "",
      "userId": "06124410414614761416"
     },
     "user_tz": -540
    },
    "id": "dGjtXhpoX9C4",
    "outputId": "d3ea3dcf-4a2e-49f5-f582-d27b296d8fae"
   },
   "outputs": [],
   "source": [
    "list(s1)"
   ]
  },
  {
   "cell_type": "code",
   "execution_count": null,
   "metadata": {
    "colab": {
     "base_uri": "https://localhost:8080/",
     "height": 54
    },
    "colab_type": "code",
    "executionInfo": {
     "elapsed": 2063,
     "status": "ok",
     "timestamp": 1590126032677,
     "user": {
      "displayName": "seongsu bang",
      "photoUrl": "",
      "userId": "06124410414614761416"
     },
     "user_tz": -540
    },
    "id": "wJc8D4VOMfci",
    "outputId": "fd1f4fbf-d915-4976-8c46-8ddb04223125"
   },
   "outputs": [],
   "source": [
    "token2idx = {}\n",
    "index = 0\n",
    "\n",
    "for sentence in [s1, s2, s3]:\n",
    "    tokens = sentence.split()\n",
    "    for token in tokens:\n",
    "        if token2idx.get(token) == None:\n",
    "            token2idx[token] = index\n",
    "            index += 1\n",
    "\n",
    "token2idx"
   ]
  },
  {
   "cell_type": "code",
   "execution_count": null,
   "metadata": {
    "colab": {
     "base_uri": "https://localhost:8080/",
     "height": 68
    },
    "colab_type": "code",
    "executionInfo": {
     "elapsed": 738,
     "status": "ok",
     "timestamp": 1589696439187,
     "user": {
      "displayName": "seongsu bang",
      "photoUrl": "",
      "userId": "06124410414614761416"
     },
     "user_tz": -540
    },
    "id": "-OpzMN2RMkyi",
    "outputId": "259c6d72-8642-4624-9e8b-6d6520f57973"
   },
   "outputs": [],
   "source": [
    "def indexed_sentence(sentence):\n",
    "    return [token2idx[token] for token in sentence]\n",
    "    \n",
    "s1_index = indexed_sentence(s1.split())\n",
    "s2_index = indexed_sentence(s2.split())\n",
    "s3_index = indexed_sentence(s3.split())\n",
    "\n",
    "print(\"s1 index =\", s1_index)\n",
    "print(\"s2 index =\", s2_index)\n",
    "print(\"s3 index =\", s3_index)"
   ]
  },
  {
   "cell_type": "code",
   "execution_count": null,
   "metadata": {
    "colab": {
     "base_uri": "https://localhost:8080/",
     "height": 34
    },
    "colab_type": "code",
    "executionInfo": {
     "elapsed": 721,
     "status": "ok",
     "timestamp": 1589696461063,
     "user": {
      "displayName": "seongsu bang",
      "photoUrl": "",
      "userId": "06124410414614761416"
     },
     "user_tz": -540
    },
    "id": "_WlvsBdpcz2n",
    "outputId": "ab9135ef-f809-4ea7-c72f-0f0bbc046d42"
   },
   "outputs": [],
   "source": [
    "s4 = '나는 책상 위에 배를 먹었다'\n",
    "\n",
    "# 기존 token 사전에 <unk> token 추가\n",
    "token2idx = {t : i+1 for t, i in token2idx.items()}\n",
    "token2idx['<unk>'] = 0\n",
    "\n",
    "# token이 없을 경우, <unk> token의 0을 치환\n",
    "def indexed_sentence_unk(sentence):\n",
    "    return [token2idx.get(token, token2idx['<unk>']) for token in sentence]\n",
    "\n",
    "indexed_sentence_unk(S4.split())\n",
    "# [2, 3, 4, 0, 6]"
   ]
  },
  {
   "cell_type": "markdown",
   "metadata": {
    "colab_type": "text",
    "id": "Lk-47h9sjWqI"
   },
   "source": [
    "## 2. Character tokenization"
   ]
  },
  {
   "cell_type": "code",
   "execution_count": null,
   "metadata": {
    "colab": {
     "base_uri": "https://localhost:8080/",
     "height": 156
    },
    "colab_type": "code",
    "executionInfo": {
     "elapsed": 1841,
     "status": "ok",
     "timestamp": 1589007461848,
     "user": {
      "displayName": "seongsu bang",
      "photoUrl": "",
      "userId": "06124410414614761416"
     },
     "user_tz": -540
    },
    "id": "1TBCvZaMB_94",
    "outputId": "745fa2bb-a548-4575-a6fb-9ebdac6d32e8"
   },
   "outputs": [],
   "source": [
    "# 영어 unicode\n",
    "print([chr(k) for k in range(65, 91)]) # 영어 대문자\n",
    "print([chr(k) for k in range(97, 123)]) # 영어 소문자\n",
    "\n",
    "# 특수 문자 및 숫자 unicode\n",
    "print([chr(k) for k in range(32, 48)])\n",
    "print([chr(k) for k in range(58, 65)])\n",
    "print([chr(k) for k in range(91, 97)])\n",
    "print([chr(k) for k in range(123, 127)])\n",
    "print([chr(k) for k in range(48, 58)])"
   ]
  },
  {
   "cell_type": "code",
   "execution_count": null,
   "metadata": {
    "colab": {
     "base_uri": "https://localhost:8080/",
     "height": 71
    },
    "colab_type": "code",
    "executionInfo": {
     "elapsed": 931,
     "status": "ok",
     "timestamp": 1589113014027,
     "user": {
      "displayName": "seongsu bang",
      "photoUrl": "",
      "userId": "06124410414614761416"
     },
     "user_tz": -540
    },
    "id": "IgNJ5tRxHm99",
    "outputId": "ae13ff26-6b22-4130-c31f-02295a7074c2"
   },
   "outputs": [],
   "source": [
    "# 한국어 unicode\n",
    "print([chr(k) for k in range(int('0xAC00',16), int('0xD7A3',16) + 1)][:10]) # 모든 완성형 한글 11,172자\n",
    "print([chr(k) for k in range(int('0x3131',16), int('0x3163',16) + 1)]) # 자모 "
   ]
  },
  {
   "cell_type": "code",
   "execution_count": null,
   "metadata": {
    "colab": {},
    "colab_type": "code",
    "id": "FPMOkmHfHkR_"
   },
   "outputs": [],
   "source": [
    "idx2char = {0:'<pad>', 1:'<unk>'}\n",
    "\n",
    "srt_idx = len(idx2char)\n",
    "for x in range(32, 127):\n",
    "    idx2char.update({srt_idx : chr(x)})\n",
    "    srt_idx += 1\n",
    "\n",
    "# 한글 추가는 밑의 코드를 실행합니다.\n",
    "for x in range(int('0x3131',16), int('0x3163',16) + 1):\n",
    "    idx2char.update({srt_idx : chr(x)})\n",
    "    srt_idx += 1\n",
    "\n",
    "for x in range(int('0xAC00',16), int('0xD7A3',16) + 1):\n",
    "    idx2char.update({srt_idx : chr(x)})\n",
    "    srt_idx += 1\n",
    "\n",
    "char2idx = {v:k for k,v in idx2char.items()}"
   ]
  },
  {
   "cell_type": "code",
   "execution_count": null,
   "metadata": {
    "colab": {
     "base_uri": "https://localhost:8080/",
     "height": 54
    },
    "colab_type": "code",
    "executionInfo": {
     "elapsed": 1248,
     "status": "ok",
     "timestamp": 1589113832206,
     "user": {
      "displayName": "seongsu bang",
      "photoUrl": "",
      "userId": "06124410414614761416"
     },
     "user_tz": -540
    },
    "id": "rIc3YVOsgIqk",
    "outputId": "0bced528-1bd6-4021-8b47-65410422337f"
   },
   "outputs": [],
   "source": [
    "print(idx2char)"
   ]
  },
  {
   "cell_type": "code",
   "execution_count": null,
   "metadata": {
    "colab": {
     "base_uri": "https://localhost:8080/",
     "height": 71
    },
    "colab_type": "code",
    "executionInfo": {
     "elapsed": 834,
     "status": "ok",
     "timestamp": 1589119353317,
     "user": {
      "displayName": "seongsu bang",
      "photoUrl": "",
      "userId": "06124410414614761416"
     },
     "user_tz": -540
    },
    "id": "4oGuUPiA3CRw",
    "outputId": "32a7e83e-46d7-43e8-8890-c4df5988359b"
   },
   "outputs": [],
   "source": [
    "print([char2idx.get(c,0) for c in '그래서 Jason에게 사과를 했다'])\n",
    "print([char2idx.get(c,0) for c in 'ㅇㅋ! ㄱㅅㄱㅅ'])"
   ]
  },
  {
   "cell_type": "markdown",
   "metadata": {
    "colab_type": "text",
    "id": "HF2Z2jcYZQUM"
   },
   "source": [
    "## 3. n-gram\n",
    "- n-gram은 charactor 단위\n",
    "- spacing 단위 n-gram"
   ]
  },
  {
   "cell_type": "code",
   "execution_count": null,
   "metadata": {
    "colab": {
     "base_uri": "https://localhost:8080/",
     "height": 68
    },
    "colab_type": "code",
    "executionInfo": {
     "elapsed": 620,
     "status": "ok",
     "timestamp": 1589614416503,
     "user": {
      "displayName": "seongsu bang",
      "photoUrl": "",
      "userId": "06124410414614761416"
     },
     "user_tz": -540
    },
    "id": "Ih_Tj-OAf831",
    "outputId": "e704886a-1a1d-4ab1-ae01-33612ad6ee0b"
   },
   "outputs": [],
   "source": [
    "S1 = '나는 책상 위에 사과를 먹었다'\n",
    "\n",
    "print([S1[i:i+1] for i in range(len(S1))]) # uni-gram\n",
    "print([S1[i:i+2] for i in range(len(S1))]) # bi -gram\n",
    "print([S1[i:i+3] for i in range(len(S1))]) # tri-gram\n"
   ]
  },
  {
   "cell_type": "code",
   "execution_count": null,
   "metadata": {
    "colab": {
     "base_uri": "https://localhost:8080/",
     "height": 68
    },
    "colab_type": "code",
    "executionInfo": {
     "elapsed": 1300,
     "status": "ok",
     "timestamp": 1589614675813,
     "user": {
      "displayName": "seongsu bang",
      "photoUrl": "",
      "userId": "06124410414614761416"
     },
     "user_tz": -540
    },
    "id": "2Ph1tBY2aGQa",
    "outputId": "efbe6ca3-8668-4526-90a5-998e08ae6204"
   },
   "outputs": [],
   "source": [
    "S5 = 'I am dying to play the game'\n",
    "S5_sp = S5.split()\n",
    "\n",
    "print([\" \".join(S5_sp[i:i+1]) for i in range(len(S5_sp))]) # uni-gram\n",
    "print([\" \".join(S5_sp[i:i+2]) for i in range(len(S5_sp))]) # bi -gram\n",
    "print([\" \".join(S5_sp[i:i+3]) for i in range(len(S5_sp))]) # tri-gram\n"
   ]
  },
  {
   "cell_type": "markdown",
   "metadata": {
    "colab_type": "text",
    "id": "_pmZ-e6D5sGg"
   },
   "source": [
    "## 4. One-hot Encoding"
   ]
  },
  {
   "cell_type": "code",
   "execution_count": null,
   "metadata": {
    "colab": {
     "base_uri": "https://localhost:8080/",
     "height": 54
    },
    "colab_type": "code",
    "executionInfo": {
     "elapsed": 885,
     "status": "ok",
     "timestamp": 1590127820084,
     "user": {
      "displayName": "seongsu bang",
      "photoUrl": "",
      "userId": "06124410414614761416"
     },
     "user_tz": -540
    },
    "id": "qniQhhhw5u1q",
    "outputId": "55543411-3e0b-438b-e53b-f220494789c6"
   },
   "outputs": [],
   "source": [
    "s1 = '나는 책상 위에 사과를 먹었다'        \n",
    "s2 = '알고 보니 그 사과는 Jason 것이었다'  \n",
    "s3 = '그래서 Jason에게 사과를 했다'       \n",
    "\n",
    "token2idx = {}\n",
    "index = 0\n",
    "\n",
    "for sentence in [S1, S2, S3]:\n",
    "    tokens = sentence.split()\n",
    "    for token in tokens:\n",
    "        if token2idx.get(token) == None:\n",
    "            token2idx[token] = index\n",
    "            index += 1\n",
    "\n",
    "token2idx"
   ]
  },
  {
   "cell_type": "code",
   "execution_count": null,
   "metadata": {
    "colab": {
     "base_uri": "https://localhost:8080/",
     "height": 255
    },
    "colab_type": "code",
    "executionInfo": {
     "elapsed": 804,
     "status": "ok",
     "timestamp": 1590127824973,
     "user": {
      "displayName": "seongsu bang",
      "photoUrl": "",
      "userId": "06124410414614761416"
     },
     "user_tz": -540
    },
    "id": "LJGpsVTy5wsg",
    "outputId": "5bb49165-29c7-477f-9e95-faf1bbfffb9d"
   },
   "outputs": [],
   "source": [
    "v = len(token2idx)\n",
    "\n",
    "token2vec = [([0 if i != idx else 1 for i in range(v)], idx, token) for token, idx in token2idx.items() ]\n",
    "\n",
    "for x in token2vec:\n",
    "    print(\"\\t\".join([str(y) for y in x]))\n"
   ]
  },
  {
   "cell_type": "code",
   "execution_count": null,
   "metadata": {
    "colab": {
     "base_uri": "https://localhost:8080/",
     "height": 425
    },
    "colab_type": "code",
    "executionInfo": {
     "elapsed": 986,
     "status": "ok",
     "timestamp": 1590128786374,
     "user": {
      "displayName": "seongsu bang",
      "photoUrl": "",
      "userId": "06124410414614761416"
     },
     "user_tz": -540
    },
    "id": "rtvnvM055xhS",
    "outputId": "53db514c-a6db-4b81-909d-47850c98d55a"
   },
   "outputs": [],
   "source": [
    "# python numpy를 이용하여 문장을 one-hot encoding으로 바꾸는 방법\n",
    "import numpy as np\n",
    "\n",
    "# default_zero = np.zeros((1,V))\n",
    "\n",
    "for sentence in [S1, S2, S3]:\n",
    "    onehot_s = []\n",
    "    tokens = sentence.split()\n",
    "    for token in tokens:\n",
    "        if token2idx.get(token) != None:\n",
    "            vector = np.zeros((1, v))\n",
    "            vector[:,token2idx[token]] = 1\n",
    "            # print(vector)\n",
    "            onehot_s.append(vector)\n",
    "        else:\n",
    "            print(\"UNK\")\n",
    "\n",
    "    print(f\"{sentence} : \")        \n",
    "    print(np.concatenate(onehot_s, axis = 0))\n",
    "    print('\\n')"
   ]
  }
 ],
 "metadata": {
  "colab": {
   "authorship_tag": "ABX9TyMQkPC6HCW74LAWe276W0Zd",
   "collapsed_sections": [
    "QIGm00ibjbfR",
    "Lk-47h9sjWqI",
    "HF2Z2jcYZQUM"
   ],
   "name": "5-1_tokenization.ipynb",
   "provenance": [],
   "toc_visible": true
  },
  "kernelspec": {
   "display_name": "multicamp",
   "language": "python",
   "name": "multicamp"
  },
  "language_info": {
   "codemirror_mode": {
    "name": "ipython",
    "version": 3
   },
   "file_extension": ".py",
   "mimetype": "text/x-python",
   "name": "python",
   "nbconvert_exporter": "python",
   "pygments_lexer": "ipython3",
   "version": "3.8.11"
  }
 },
 "nbformat": 4,
 "nbformat_minor": 4
}
